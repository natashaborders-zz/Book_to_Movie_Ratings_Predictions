{
 "cells": [
  {
   "cell_type": "code",
   "execution_count": 95,
   "metadata": {},
   "outputs": [
    {
     "ename": "ModuleNotFoundError",
     "evalue": "No module named 'selenium'",
     "output_type": "error",
     "traceback": [
      "\u001b[0;31m---------------------------------------------------------------------------\u001b[0m",
      "\u001b[0;31mModuleNotFoundError\u001b[0m                       Traceback (most recent call last)",
      "\u001b[0;32m<ipython-input-95-7e39874d3242>\u001b[0m in \u001b[0;36m<module>\u001b[0;34m\u001b[0m\n\u001b[1;32m      8\u001b[0m \u001b[0;32mimport\u001b[0m \u001b[0mtime\u001b[0m\u001b[0;34m\u001b[0m\u001b[0;34m\u001b[0m\u001b[0m\n\u001b[1;32m      9\u001b[0m \u001b[0;32mimport\u001b[0m \u001b[0mpickle\u001b[0m\u001b[0;34m\u001b[0m\u001b[0;34m\u001b[0m\u001b[0m\n\u001b[0;32m---> 10\u001b[0;31m \u001b[0;32mfrom\u001b[0m \u001b[0mselenium\u001b[0m \u001b[0;32mimport\u001b[0m \u001b[0mwebdriver\u001b[0m\u001b[0;34m\u001b[0m\u001b[0;34m\u001b[0m\u001b[0m\n\u001b[0m",
      "\u001b[0;31mModuleNotFoundError\u001b[0m: No module named 'selenium'"
     ]
    }
   ],
   "source": [
    "from __future__ import print_function, division\n",
    "\n",
    "import requests\n",
    "\n",
    "requests.__path__\n",
    "\n",
    "from bs4 import BeautifulSoup\n",
    "import time\n",
    "import pickle\n",
    "from selenium import webdriver"
   ]
  },
  {
   "cell_type": "code",
   "execution_count": 96,
   "metadata": {},
   "outputs": [
    {
     "data": {
      "text/plain": [
       "['The Hunger Games (The Hunger Games, #1)',\n",
       " \"Harry Potter and the Sorcerer's Stone (Harry Potter, #1)\",\n",
       " 'Harry Potter and the Goblet of Fire (Harry Potter, #4)',\n",
       " 'Harry Potter and the Chamber of Secrets (Harry Potter, #2)',\n",
       " 'Twilight (Twilight, #1)',\n",
       " 'The Help (Hardcover)',\n",
       " 'Harry Potter and the Half-Blood Prince (Harry Potter, #6)',\n",
       " 'Harry Potter and the Deathly Hallows (Harry Potter, #7)',\n",
       " 'Harry Potter and the Prisoner of Azkaban (Harry Potter, #3)',\n",
       " 'Harry Potter and the Order of the Phoenix (Harry Potter, #5)',\n",
       " 'Catching Fire (The Hunger Games, #2)',\n",
       " 'The Fault in Our Stars (Hardcover)',\n",
       " 'Divergent (Divergent, #1)',\n",
       " 'New Moon (Twilight, #2)',\n",
       " 'The Lovely Bones (Mass Market Paperback)',\n",
       " 'Eclipse (Twilight, #3)',\n",
       " 'The Perks of Being a Wallflower (Paperback)',\n",
       " 'The Great Gatsby (Paperback)',\n",
       " 'Pride and Prejudice (Paperback)',\n",
       " 'Breaking Dawn (Twilight, #4)',\n",
       " 'To Kill a Mockingbird (Paperback)',\n",
       " 'The Book Thief (Hardcover)',\n",
       " 'Mockingjay (The Hunger Games, #3)',\n",
       " 'The Notebook (Kindle Edition)',\n",
       " 'The Hobbit or There and Back Again (Paperback)',\n",
       " 'Water for Elephants (Paperback)',\n",
       " 'The Princess Bride (Paperback)',\n",
       " 'Gone Girl (Paperback)',\n",
       " \"The Time Traveler's Wife (ebook)\",\n",
       " 'The Maze Runner (The Maze Runner, #1)',\n",
       " 'City of Bones (The Mortal Instruments, #1)',\n",
       " 'The Da Vinci Code (Robert Langdon, #2)',\n",
       " 'If I Stay (If I Stay, #1)',\n",
       " 'The Lightning Thief (Percy Jackson and the Olympians, #1)',\n",
       " 'The Lion, the Witch and the Wardrobe (Chronicles of Narnia, #1)',\n",
       " 'Memoirs of a Geisha (Mass Market Paperback)',\n",
       " 'Life of Pi (Paperback)',\n",
       " 'The Host (The Host, #1)',\n",
       " 'A Walk to Remember (Kindle Edition)',\n",
       " 'The Giver (Paperback)',\n",
       " 'Atonement (Paperback)',\n",
       " 'Gone with the Wind (Paperback)',\n",
       " 'Eat, Pray, Love (Paperback)',\n",
       " 'The Secret Life of Bees (Paperback)',\n",
       " 'Angels & Demons (Robert Langdon, #1)',\n",
       " 'Me Before You (Me Before You, #1)',\n",
       " 'The Girl with the Dragon Tattoo (Millennium, #1)',\n",
       " 'Jane Eyre (Paperback)',\n",
       " 'The Last Song (Hardcover)',\n",
       " \"My Sister's Keeper (Paperback)\"]"
      ]
     },
     "execution_count": 96,
     "metadata": {},
     "output_type": "execute_result"
    }
   ],
   "source": [
    "url = 'https://www.goodreads.com/shelf/show/books-made-into-movies'\n",
    "\n",
    "response = requests.get(url)\n",
    "\n",
    "page = response.text\n",
    "\n",
    "soup = BeautifulSoup(page, \"lxml\")\n",
    "\n",
    "\n",
    "titlelist1 = []\n",
    "for i in soup.find_all(\"a\", attrs={\"class\": \"bookTitle\"}):\n",
    "    titlelist1.append(i.text)\n",
    "titlelist1"
   ]
  },
  {
   "cell_type": "code",
   "execution_count": 97,
   "metadata": {},
   "outputs": [
    {
     "ename": "NameError",
     "evalue": "name 'webdriver' is not defined",
     "output_type": "error",
     "traceback": [
      "\u001b[0;31m---------------------------------------------------------------------------\u001b[0m",
      "\u001b[0;31mNameError\u001b[0m                                 Traceback (most recent call last)",
      "\u001b[0;32m<ipython-input-97-867b847bc904>\u001b[0m in \u001b[0;36m<module>\u001b[0;34m\u001b[0m\n\u001b[1;32m      1\u001b[0m \u001b[0mpath_to_executable\u001b[0m \u001b[0;34m=\u001b[0m \u001b[0;34m'/path/to/chromedriver'\u001b[0m\u001b[0;34m\u001b[0m\u001b[0;34m\u001b[0m\u001b[0m\n\u001b[0;32m----> 2\u001b[0;31m \u001b[0mbrowser\u001b[0m \u001b[0;34m=\u001b[0m \u001b[0mwebdriver\u001b[0m\u001b[0;34m.\u001b[0m\u001b[0mChrome\u001b[0m\u001b[0;34m(\u001b[0m\u001b[0mpath_to_executable\u001b[0m\u001b[0;34m)\u001b[0m\u001b[0;34m\u001b[0m\u001b[0;34m\u001b[0m\u001b[0m\n\u001b[0m\u001b[1;32m      3\u001b[0m \u001b[0;34m\u001b[0m\u001b[0m\n\u001b[1;32m      4\u001b[0m \u001b[0;34m\u001b[0m\u001b[0m\n\u001b[1;32m      5\u001b[0m \u001b[0mmy_url\u001b[0m \u001b[0;34m=\u001b[0m \u001b[0;34m'https://www.goodreads.com/shelf/show/books-made-into-movies'\u001b[0m\u001b[0;34m\u001b[0m\u001b[0;34m\u001b[0m\u001b[0m\n",
      "\u001b[0;31mNameError\u001b[0m: name 'webdriver' is not defined"
     ]
    }
   ],
   "source": [
    "path_to_executable = '/path/to/chromedriver'\n",
    "browser = webdriver.Chrome(path_to_executable)\n",
    "\n",
    "\n",
    "my_url = 'https://www.goodreads.com/shelf/show/books-made-into-movies'\n",
    "browser.get(my_url)\n",
    "time.sleep(5)\n",
    "source = browser.page_source\n",
    "soup = BeautifulSoup(source, 'lxml')\n",
    "\n",
    "\n",
    "\n",
    "pagination_div = soup.find('div', {'id': 'reviewPagination'})\n",
    "page_links = pagination_div.find_all('a')\n",
    "last_page = page_links[-2] # page_links[-1] is \"next >>\"\n",
    "total_pages = int(last_page.text)\n",
    "print('total_pages:', total_pages)"
   ]
  },
  {
   "cell_type": "code",
   "execution_count": null,
   "metadata": {},
   "outputs": [],
   "source": []
  }
 ],
 "metadata": {
  "kernelspec": {
   "display_name": "Python 3",
   "language": "python",
   "name": "python3"
  },
  "language_info": {
   "codemirror_mode": {
    "name": "ipython",
    "version": 3
   },
   "file_extension": ".py",
   "mimetype": "text/x-python",
   "name": "python",
   "nbconvert_exporter": "python",
   "pygments_lexer": "ipython3",
   "version": "3.7.3"
  }
 },
 "nbformat": 4,
 "nbformat_minor": 2
}
