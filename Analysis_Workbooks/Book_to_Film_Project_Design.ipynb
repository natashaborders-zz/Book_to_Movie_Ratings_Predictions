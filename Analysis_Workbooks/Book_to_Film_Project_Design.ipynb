{
 "cells": [
  {
   "cell_type": "markdown",
   "metadata": {},
   "source": [
    "For this project, I am going to examine films based on  novels and use linear regression to predict box office success of a movie based on the source book success."
   ]
  },
  {
   "cell_type": "markdown",
   "metadata": {},
   "source": [
    "I will start with webscraping a list from Goodreads:\n",
    "* https://www.goodreads.com/shelf/show/books-made-into-movies\n",
    "\n",
    "These will provide me with the titles of all the books that have been turned into movies."
   ]
  },
  {
   "cell_type": "markdown",
   "metadata": {},
   "source": [
    "I will then explore the book data using Goodreads API, to retrieve the rating on the novel and information about the author (if applicable), and match it to the list above based on the titles of the books, if needed."
   ]
  },
  {
   "cell_type": "markdown",
   "metadata": {},
   "source": [
    "Finally, I will use a Kaggle movie information dataset to get the information about the movies I need and append that to the dataset (aquired)."
   ]
  },
  {
   "cell_type": "markdown",
   "metadata": {},
   "source": [
    "The result will be a dataset where each row will represent a novel made into a movie, and I will use the linear regression to examine the relationship between the  movie and the novel it's based on."
   ]
  }
 ],
 "metadata": {
  "kernelspec": {
   "display_name": "Python 3",
   "language": "python",
   "name": "python3"
  },
  "language_info": {
   "codemirror_mode": {
    "name": "ipython",
    "version": 3
   },
   "file_extension": ".py",
   "mimetype": "text/x-python",
   "name": "python",
   "nbconvert_exporter": "python",
   "pygments_lexer": "ipython3",
   "version": "3.7.3"
  }
 },
 "nbformat": 4,
 "nbformat_minor": 2
}
