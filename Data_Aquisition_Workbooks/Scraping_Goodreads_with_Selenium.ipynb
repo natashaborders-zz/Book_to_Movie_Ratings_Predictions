{
 "cells": [
  {
   "cell_type": "markdown",
   "metadata": {},
   "source": [
    "Used Selenium to scrape Goodreads website for the information about the list of books made into movies. This became the basis of comparison for the movies/books database."
   ]
  },
  {
   "cell_type": "code",
   "execution_count": 87,
   "metadata": {},
   "outputs": [],
   "source": [
    "from selenium import webdriver\n",
    "from selenium.webdriver.common.keys import Keys\n",
    "from selenium.common.exceptions import TimeoutException\n",
    "from selenium.webdriver.support.ui import WebDriverWait\n",
    "from selenium.webdriver.support import expected_conditions as EC\n",
    "from selenium.webdriver.common.by import By\n",
    "\n",
    "import time\n",
    "import os\n",
    "chromedriver = \"/Applications/chromedriver\" # path to the chromedriver executable\n",
    "os.environ[\"webdriver.chrome.driver\"] = chromedriver\n",
    "import pickle"
   ]
  },
  {
   "cell_type": "code",
   "execution_count": 88,
   "metadata": {},
   "outputs": [],
   "source": [
    "driver = webdriver.Chrome(chromedriver)\n",
    "url = \"https://www.goodreads.com/shelf/show/books-made-into-movies?page=1\"\n",
    "driver.get(url)\n",
    "headers = requests.utils.default_headers()\n",
    "headers.update(\n",
    "    {\n",
    "        'User-Agent': 'Chrome/73.0.3683.103',\n",
    "    }\n",
    ")"
   ]
  },
  {
   "cell_type": "code",
   "execution_count": 89,
   "metadata": {},
   "outputs": [],
   "source": [
    "sign_in_button = driver.find_element_by_xpath('/html/body/div[2]/div[1]/div/header/div[1]/div/ul/li[1]/a')\n",
    "sign_in_button.click()"
   ]
  },
  {
   "cell_type": "code",
   "execution_count": 90,
   "metadata": {},
   "outputs": [
    {
     "name": "stdout",
     "output_type": "stream",
     "text": [
      "The dotenv extension is already loaded. To reload it, use:\n",
      "  %reload_ext dotenv\n",
      "auroraborealis666@gmail.com\n"
     ]
    }
   ],
   "source": [
    "# See notes about environment variables\n",
    "%load_ext dotenv\n",
    "%dotenv\n",
    "import os\n",
    "EMAIL = os.environ.get('USERNAME')\n",
    "PASSWORD = os.environ.get('PASSWORD')\n",
    "\n",
    "# Show that this is working. Don't do this for PASSWORD!\n",
    "print(EMAIL)"
   ]
  },
  {
   "cell_type": "code",
   "execution_count": 91,
   "metadata": {},
   "outputs": [],
   "source": [
    "username_form = driver.find_element_by_id(\"user_email\")\n",
    "username_form.send_keys(EMAIL) "
   ]
  },
  {
   "cell_type": "code",
   "execution_count": 92,
   "metadata": {},
   "outputs": [],
   "source": [
    "username_form.send_keys(Keys.RETURN)"
   ]
  },
  {
   "cell_type": "code",
   "execution_count": 93,
   "metadata": {},
   "outputs": [],
   "source": [
    "password_form=driver.find_element_by_id(\"user_password\") # note another approach\n",
    "password_form.send_keys(PASSWORD) # enter password\n"
   ]
  },
  {
   "cell_type": "code",
   "execution_count": 94,
   "metadata": {},
   "outputs": [],
   "source": [
    "password_form.send_keys(Keys.RETURN)"
   ]
  },
  {
   "cell_type": "code",
   "execution_count": 96,
   "metadata": {},
   "outputs": [
    {
     "name": "stdout",
     "output_type": "stream",
     "text": [
      "Timed out waiting for page to load\n",
      "1191\n"
     ]
    }
   ],
   "source": [
    "\n",
    "titles = []\n",
    "ratings = []\n",
    "number_ratings = []\n",
    "years_published = []\n",
    "\n",
    "running = True\n",
    "timeout = 5\n",
    "\n",
    "while running:\n",
    "    try:\n",
    "        element_present = EC.presence_of_element_located((By.LINK_TEXT, 'next »'))\n",
    "        WebDriverWait(driver, timeout).until(element_present)\n",
    "    except TimeoutException:\n",
    "        print(\"Timed out waiting for page to load\")\n",
    "        break\n",
    "\n",
    "    bookElements = driver.find_elements_by_css_selector(\".elementList > .left\")\n",
    "    for element in bookElements:\n",
    "        \n",
    "        link = element.find_element_by_class_name(\"bookTitle\")\n",
    "        \n",
    "        title = link.text\n",
    "        title = title.split(\"(\")[0].strip()\n",
    "        titles.append(title)\n",
    "        \n",
    "        popularity = element.find_element_by_xpath(\"*[contains(text(), 'avg rating')]\").text\n",
    "        popularity = popularity.split(\"—\")\n",
    "\n",
    "        rating = popularity[0].strip()\n",
    "        rating = rating[len(\"avg rating \"):]\n",
    "        ratings.append(rating)\n",
    "\n",
    "        number_rating = popularity[1].strip()\n",
    "        number_rating = number_rating.split(\" \")[0]\n",
    "        number_ratings.append(number_rating)\n",
    "\n",
    "        year_published = popularity[2].strip()\n",
    "        parts = year_published.split(\" \")\n",
    "        if (len(parts) < 2):\n",
    "            years_published.append(float(\"NaN\"))\n",
    "        else:\n",
    "            year_published = year_published.split(\" \")[1]\n",
    "            years_published.append(year_published)\n",
    "    \n",
    "    try:\n",
    "        next_button = driver.find_element_by_link_text('next »')\n",
    "        next_button.click()\n",
    "    except NoSuchElementException as exception:\n",
    "        running = False\n",
    "\n",
    "print(len(titles))"
   ]
  },
  {
   "cell_type": "code",
   "execution_count": 103,
   "metadata": {},
   "outputs": [],
   "source": [
    "with open('title.pkl', 'wb') as f:\n",
    "    pickle.dump(titles, f)"
   ]
  },
  {
   "cell_type": "code",
   "execution_count": 104,
   "metadata": {},
   "outputs": [],
   "source": [
    "with open('rating.pkl', 'wb') as f:\n",
    "    pickle.dump(ratings, f)"
   ]
  },
  {
   "cell_type": "code",
   "execution_count": 105,
   "metadata": {},
   "outputs": [],
   "source": [
    "with open('number_rating.pkl', 'wb') as f:\n",
    "    pickle.dump(number_ratings, f)"
   ]
  },
  {
   "cell_type": "code",
   "execution_count": 106,
   "metadata": {},
   "outputs": [],
   "source": [
    "with open('year_published.pkl', 'wb') as f:\n",
    "    pickle.dump(years_published, f)"
   ]
  }
 ],
 "metadata": {
  "kernelspec": {
   "display_name": "Python 3",
   "language": "python",
   "name": "python3"
  },
  "language_info": {
   "codemirror_mode": {
    "name": "ipython",
    "version": 3
   },
   "file_extension": ".py",
   "mimetype": "text/x-python",
   "name": "python",
   "nbconvert_exporter": "python",
   "pygments_lexer": "ipython3",
   "version": "3.7.3"
  }
 },
 "nbformat": 4,
 "nbformat_minor": 2
}
