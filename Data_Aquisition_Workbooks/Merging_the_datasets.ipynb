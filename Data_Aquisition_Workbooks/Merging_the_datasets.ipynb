{
 "cells": [
  {
   "cell_type": "code",
   "execution_count": 2,
   "metadata": {},
   "outputs": [],
   "source": [
    "import pandas as pd\n",
    "import numpy as np\n",
    "import statsmodels.api as sm\n",
    "import statsmodels.formula.api as smf\n",
    "import patsy\n",
    "#from fuzzywuzzy import fuzz\n",
    "import pickle\n"
   ]
  },
  {
   "cell_type": "raw",
   "metadata": {},
   "source": [
    "#Entertained having to use FuzzyWuzzy to match names but the dataframes did a pretty good job for my purposes.\n",
    "\n",
    "def match_name(name, list_names, min_score=0):\n",
    "    # -1 score incase we don't get any matches\n",
    "    max_score = -1\n",
    "    # Returning empty name for no match as well\n",
    "    max_name = \"\"\n",
    "    # Iternating over all names in the other\n",
    "    for name2 in list_names:\n",
    "        #Finding fuzzy match score\n",
    "        score = fuzz.ratio(name, name2)\n",
    "        # Checking if we are above our threshold and have a better score\n",
    "        if (score > min_score) & (score > max_score):\n",
    "            max_name = name2\n",
    "            max_score = score\n",
    "    return (max_name, max_score)"
   ]
  },
  {
   "cell_type": "code",
   "execution_count": 3,
   "metadata": {},
   "outputs": [],
   "source": [
    "with open('title.pkl', 'rb') as f:\n",
    "    book_title = pickle.load(f)"
   ]
  },
  {
   "cell_type": "code",
   "execution_count": 4,
   "metadata": {},
   "outputs": [],
   "source": [
    "with open('rating.pkl', 'rb') as f:\n",
    "    book_rating = pickle.load(f)"
   ]
  },
  {
   "cell_type": "code",
   "execution_count": 5,
   "metadata": {},
   "outputs": [],
   "source": [
    "with open('number_rating.pkl', 'rb') as f:\n",
    "    book_number_rating = pickle.load(f)"
   ]
  },
  {
   "cell_type": "code",
   "execution_count": 6,
   "metadata": {},
   "outputs": [],
   "source": [
    "\n",
    "with open('year_published.pkl', 'rb') as f:\n",
    "    book_year_published = pickle.load(f)"
   ]
  },
  {
   "cell_type": "code",
   "execution_count": 7,
   "metadata": {},
   "outputs": [],
   "source": [
    "with open('movie_data.pkl', 'rb') as f:\n",
    "    movie_data = pickle.load(f)"
   ]
  },
  {
   "cell_type": "code",
   "execution_count": 8,
   "metadata": {},
   "outputs": [],
   "source": [
    "book_data = pd.DataFrame(\n",
    "    {'book_title': book_title,\n",
    "     'book_rating': book_rating,\n",
    "     'book_number_rating': book_number_rating,\n",
    "     'book_year_published': book_year_published\n",
    "    })"
   ]
  },
  {
   "cell_type": "code",
   "execution_count": 9,
   "metadata": {},
   "outputs": [],
   "source": [
    "with open('book_data.pkl', 'wb') as f:\n",
    "    pickle.dump(book_data, f)"
   ]
  },
  {
   "cell_type": "code",
   "execution_count": 19,
   "metadata": {
    "scrolled": true
   },
   "outputs": [
    {
     "data": {
      "text/plain": [
       "book_title              object\n",
       "book_rating            float64\n",
       "book_number_rating      object\n",
       "book_year_published     object\n",
       "dtype: object"
      ]
     },
     "execution_count": 19,
     "metadata": {},
     "output_type": "execute_result"
    }
   ],
   "source": [
    "book_data.dtypes"
   ]
  },
  {
   "cell_type": "code",
   "execution_count": 20,
   "metadata": {},
   "outputs": [],
   "source": [
    "book_data[\"book_rating\"] = pd.to_numeric(book_data[\"book_rating\"])"
   ]
  },
  {
   "cell_type": "code",
   "execution_count": 21,
   "metadata": {},
   "outputs": [
    {
     "data": {
      "text/plain": [
       "book_title              object\n",
       "book_rating            float64\n",
       "book_number_rating      object\n",
       "book_year_published     object\n",
       "dtype: object"
      ]
     },
     "execution_count": 21,
     "metadata": {},
     "output_type": "execute_result"
    }
   ],
   "source": [
    "book_data.dtypes"
   ]
  },
  {
   "cell_type": "code",
   "execution_count": 13,
   "metadata": {},
   "outputs": [
    {
     "data": {
      "text/plain": [
       "adult                     object\n",
       "belongs_to_collection     object\n",
       "budget                     int64\n",
       "genres                    object\n",
       "homepage                  object\n",
       "id                        object\n",
       "imdb_id                   object\n",
       "original_language         object\n",
       "original_title            object\n",
       "overview                  object\n",
       "popularity                object\n",
       "poster_path               object\n",
       "production_companies      object\n",
       "production_countries      object\n",
       "release_date              object\n",
       "revenue                  float64\n",
       "runtime                  float64\n",
       "spoken_languages          object\n",
       "status                    object\n",
       "tagline                   object\n",
       "title                     object\n",
       "video                     object\n",
       "vote_average             float64\n",
       "vote_count               float64\n",
       "dtype: object"
      ]
     },
     "execution_count": 13,
     "metadata": {},
     "output_type": "execute_result"
    }
   ],
   "source": [
    "movie_data.dtypes"
   ]
  },
  {
   "cell_type": "code",
   "execution_count": 12,
   "metadata": {},
   "outputs": [],
   "source": [
    "book_movie = pd.merge(book_data, movie_data,  left_on='book_title', right_on = 'title')"
   ]
  },
  {
   "cell_type": "code",
   "execution_count": 13,
   "metadata": {},
   "outputs": [
    {
     "data": {
      "text/plain": [
       "(705, 28)"
      ]
     },
     "execution_count": 13,
     "metadata": {},
     "output_type": "execute_result"
    }
   ],
   "source": [
    "book_movie.shape"
   ]
  },
  {
   "cell_type": "code",
   "execution_count": 14,
   "metadata": {
    "scrolled": true
   },
   "outputs": [
    {
     "data": {
      "text/plain": [
       "book_title                object\n",
       "book_rating              float64\n",
       "book_number_rating        object\n",
       "book_year_published       object\n",
       "adult                     object\n",
       "belongs_to_collection     object\n",
       "budget                     int64\n",
       "genres                    object\n",
       "homepage                  object\n",
       "id                        object\n",
       "imdb_id                   object\n",
       "original_language         object\n",
       "original_title            object\n",
       "overview                  object\n",
       "popularity                object\n",
       "poster_path               object\n",
       "production_companies      object\n",
       "production_countries      object\n",
       "release_date              object\n",
       "revenue                  float64\n",
       "runtime                  float64\n",
       "spoken_languages          object\n",
       "status                    object\n",
       "tagline                   object\n",
       "title                     object\n",
       "video                     object\n",
       "vote_average             float64\n",
       "vote_count               float64\n",
       "dtype: object"
      ]
     },
     "execution_count": 14,
     "metadata": {},
     "output_type": "execute_result"
    }
   ],
   "source": [
    "book_movie.dtypes"
   ]
  },
  {
   "cell_type": "code",
   "execution_count": 15,
   "metadata": {},
   "outputs": [
    {
     "data": {
      "text/html": [
       "<div>\n",
       "<style scoped>\n",
       "    .dataframe tbody tr th:only-of-type {\n",
       "        vertical-align: middle;\n",
       "    }\n",
       "\n",
       "    .dataframe tbody tr th {\n",
       "        vertical-align: top;\n",
       "    }\n",
       "\n",
       "    .dataframe thead th {\n",
       "        text-align: right;\n",
       "    }\n",
       "</style>\n",
       "<table border=\"1\" class=\"dataframe\">\n",
       "  <thead>\n",
       "    <tr style=\"text-align: right;\">\n",
       "      <th></th>\n",
       "      <th>book_rating</th>\n",
       "      <th>budget</th>\n",
       "      <th>revenue</th>\n",
       "      <th>runtime</th>\n",
       "      <th>vote_average</th>\n",
       "      <th>vote_count</th>\n",
       "    </tr>\n",
       "  </thead>\n",
       "  <tbody>\n",
       "    <tr>\n",
       "      <th>book_rating</th>\n",
       "      <td>1.000000</td>\n",
       "      <td>0.119831</td>\n",
       "      <td>0.171653</td>\n",
       "      <td>-0.005385</td>\n",
       "      <td>0.206703</td>\n",
       "      <td>0.202751</td>\n",
       "    </tr>\n",
       "    <tr>\n",
       "      <th>budget</th>\n",
       "      <td>0.119831</td>\n",
       "      <td>1.000000</td>\n",
       "      <td>0.753144</td>\n",
       "      <td>0.121404</td>\n",
       "      <td>0.099657</td>\n",
       "      <td>0.603412</td>\n",
       "    </tr>\n",
       "    <tr>\n",
       "      <th>revenue</th>\n",
       "      <td>0.171653</td>\n",
       "      <td>0.753144</td>\n",
       "      <td>1.000000</td>\n",
       "      <td>0.113938</td>\n",
       "      <td>0.158091</td>\n",
       "      <td>0.747391</td>\n",
       "    </tr>\n",
       "    <tr>\n",
       "      <th>runtime</th>\n",
       "      <td>-0.005385</td>\n",
       "      <td>0.121404</td>\n",
       "      <td>0.113938</td>\n",
       "      <td>1.000000</td>\n",
       "      <td>0.001977</td>\n",
       "      <td>0.109464</td>\n",
       "    </tr>\n",
       "    <tr>\n",
       "      <th>vote_average</th>\n",
       "      <td>0.206703</td>\n",
       "      <td>0.099657</td>\n",
       "      <td>0.158091</td>\n",
       "      <td>0.001977</td>\n",
       "      <td>1.000000</td>\n",
       "      <td>0.272046</td>\n",
       "    </tr>\n",
       "    <tr>\n",
       "      <th>vote_count</th>\n",
       "      <td>0.202751</td>\n",
       "      <td>0.603412</td>\n",
       "      <td>0.747391</td>\n",
       "      <td>0.109464</td>\n",
       "      <td>0.272046</td>\n",
       "      <td>1.000000</td>\n",
       "    </tr>\n",
       "  </tbody>\n",
       "</table>\n",
       "</div>"
      ],
      "text/plain": [
       "              book_rating    budget   revenue   runtime  vote_average  \\\n",
       "book_rating      1.000000  0.119831  0.171653 -0.005385      0.206703   \n",
       "budget           0.119831  1.000000  0.753144  0.121404      0.099657   \n",
       "revenue          0.171653  0.753144  1.000000  0.113938      0.158091   \n",
       "runtime         -0.005385  0.121404  0.113938  1.000000      0.001977   \n",
       "vote_average     0.206703  0.099657  0.158091  0.001977      1.000000   \n",
       "vote_count       0.202751  0.603412  0.747391  0.109464      0.272046   \n",
       "\n",
       "              vote_count  \n",
       "book_rating     0.202751  \n",
       "budget          0.603412  \n",
       "revenue         0.747391  \n",
       "runtime         0.109464  \n",
       "vote_average    0.272046  \n",
       "vote_count      1.000000  "
      ]
     },
     "execution_count": 15,
     "metadata": {},
     "output_type": "execute_result"
    }
   ],
   "source": [
    "book_movie.corr()"
   ]
  },
  {
   "cell_type": "code",
   "execution_count": 17,
   "metadata": {},
   "outputs": [],
   "source": [
    "book_movie.to_pickle('book_movie.pkl')"
   ]
  },
  {
   "cell_type": "code",
   "execution_count": 67,
   "metadata": {},
   "outputs": [],
   "source": [
    "with open('book_movie_data.pkl', 'wb') as f:\n",
    "    pickle.dump(book_movie, f)"
   ]
  },
  {
   "cell_type": "code",
   "execution_count": 29,
   "metadata": {},
   "outputs": [],
   "source": [
    "book_movie.to_csv('book_movie.csv')"
   ]
  },
  {
   "cell_type": "markdown",
   "metadata": {},
   "source": [
    "Experimenting with the IMDb dataset to see if additional variables could be appended. Concluded that it was not providing enough extra value."
   ]
  },
  {
   "cell_type": "code",
   "execution_count": 51,
   "metadata": {},
   "outputs": [],
   "source": [
    "imdb_data = pd.read_csv('./raw_data_files/movie_metadata_2.csv')"
   ]
  },
  {
   "cell_type": "code",
   "execution_count": 52,
   "metadata": {},
   "outputs": [
    {
     "data": {
      "text/plain": [
       "0                                              Avatar \n",
       "1            Pirates of the Caribbean: At World's End \n",
       "2                                             Spectre \n",
       "3                               The Dark Knight Rises \n",
       "4    Star Wars: Episode VII - The Force Awakens    ...\n",
       "Name: movie_title, dtype: object"
      ]
     },
     "execution_count": 52,
     "metadata": {},
     "output_type": "execute_result"
    }
   ],
   "source": [
    "imdb_data.movie_title.head()"
   ]
  },
  {
   "cell_type": "code",
   "execution_count": 53,
   "metadata": {},
   "outputs": [
    {
     "data": {
      "text/plain": [
       "(5043, 28)"
      ]
     },
     "execution_count": 53,
     "metadata": {},
     "output_type": "execute_result"
    }
   ],
   "source": [
    "imdb_data.shape"
   ]
  },
  {
   "cell_type": "code",
   "execution_count": 31,
   "metadata": {},
   "outputs": [
    {
     "data": {
      "text/plain": [
       "0                           The Hunger Games\n",
       "1      Harry Potter and the Sorcerer's Stone\n",
       "2        Harry Potter and the Goblet of Fire\n",
       "3    Harry Potter and the Chamber of Secrets\n",
       "4                                   Twilight\n",
       "Name: book_title, dtype: object"
      ]
     },
     "execution_count": 31,
     "metadata": {},
     "output_type": "execute_result"
    }
   ],
   "source": [
    "book_data.book_title.head()"
   ]
  },
  {
   "cell_type": "code",
   "execution_count": 59,
   "metadata": {},
   "outputs": [
    {
     "data": {
      "text/plain": [
       "'Avatar\\xa0'"
      ]
     },
     "execution_count": 59,
     "metadata": {},
     "output_type": "execute_result"
    }
   ],
   "source": [
    "imdb_data.movie_title[0]"
   ]
  },
  {
   "cell_type": "code",
   "execution_count": 64,
   "metadata": {},
   "outputs": [],
   "source": [
    "movie_titles = []\n",
    "for title in list(imdb_data['movie_title']):\n",
    "    title = title.replace(u'\\xa0', u' ').strip()\n",
    "    movie_titles.append(title)"
   ]
  },
  {
   "cell_type": "code",
   "execution_count": 66,
   "metadata": {},
   "outputs": [],
   "source": [
    "imdb_data['movie_title'] = movie_titles"
   ]
  },
  {
   "cell_type": "code",
   "execution_count": 67,
   "metadata": {},
   "outputs": [],
   "source": [
    "book_movie_imdb = pd.merge(book_data, imdb_data,  left_on='book_title', right_on = 'movie_title')"
   ]
  },
  {
   "cell_type": "code",
   "execution_count": 68,
   "metadata": {},
   "outputs": [
    {
     "data": {
      "text/plain": [
       "(404, 32)"
      ]
     },
     "execution_count": 68,
     "metadata": {},
     "output_type": "execute_result"
    }
   ],
   "source": [
    "book_movie_imdb.shape"
   ]
  },
  {
   "cell_type": "code",
   "execution_count": 72,
   "metadata": {},
   "outputs": [
    {
     "data": {
      "text/html": [
       "<div>\n",
       "<style scoped>\n",
       "    .dataframe tbody tr th:only-of-type {\n",
       "        vertical-align: middle;\n",
       "    }\n",
       "\n",
       "    .dataframe tbody tr th {\n",
       "        vertical-align: top;\n",
       "    }\n",
       "\n",
       "    .dataframe thead th {\n",
       "        text-align: right;\n",
       "    }\n",
       "</style>\n",
       "<table border=\"1\" class=\"dataframe\">\n",
       "  <thead>\n",
       "    <tr style=\"text-align: right;\">\n",
       "      <th></th>\n",
       "      <th>book_title</th>\n",
       "      <th>movie_title</th>\n",
       "    </tr>\n",
       "  </thead>\n",
       "  <tbody>\n",
       "    <tr>\n",
       "      <th>0</th>\n",
       "      <td>The Hunger Games</td>\n",
       "      <td>The Hunger Games</td>\n",
       "    </tr>\n",
       "    <tr>\n",
       "      <th>1</th>\n",
       "      <td>Harry Potter and the Sorcerer's Stone</td>\n",
       "      <td>Harry Potter and the Sorcerer's Stone</td>\n",
       "    </tr>\n",
       "    <tr>\n",
       "      <th>2</th>\n",
       "      <td>Harry Potter and the Goblet of Fire</td>\n",
       "      <td>Harry Potter and the Goblet of Fire</td>\n",
       "    </tr>\n",
       "    <tr>\n",
       "      <th>3</th>\n",
       "      <td>Harry Potter and the Chamber of Secrets</td>\n",
       "      <td>Harry Potter and the Chamber of Secrets</td>\n",
       "    </tr>\n",
       "    <tr>\n",
       "      <th>4</th>\n",
       "      <td>Twilight</td>\n",
       "      <td>Twilight</td>\n",
       "    </tr>\n",
       "    <tr>\n",
       "      <th>5</th>\n",
       "      <td>Twilight</td>\n",
       "      <td>Twilight</td>\n",
       "    </tr>\n",
       "    <tr>\n",
       "      <th>6</th>\n",
       "      <td>The Help</td>\n",
       "      <td>The Help</td>\n",
       "    </tr>\n",
       "    <tr>\n",
       "      <th>7</th>\n",
       "      <td>Harry Potter and the Half-Blood Prince</td>\n",
       "      <td>Harry Potter and the Half-Blood Prince</td>\n",
       "    </tr>\n",
       "    <tr>\n",
       "      <th>8</th>\n",
       "      <td>Harry Potter and the Prisoner of Azkaban</td>\n",
       "      <td>Harry Potter and the Prisoner of Azkaban</td>\n",
       "    </tr>\n",
       "    <tr>\n",
       "      <th>9</th>\n",
       "      <td>Harry Potter and the Order of the Phoenix</td>\n",
       "      <td>Harry Potter and the Order of the Phoenix</td>\n",
       "    </tr>\n",
       "    <tr>\n",
       "      <th>10</th>\n",
       "      <td>The Fault in Our Stars</td>\n",
       "      <td>The Fault in Our Stars</td>\n",
       "    </tr>\n",
       "    <tr>\n",
       "      <th>11</th>\n",
       "      <td>Divergent</td>\n",
       "      <td>Divergent</td>\n",
       "    </tr>\n",
       "    <tr>\n",
       "      <th>12</th>\n",
       "      <td>The Lovely Bones</td>\n",
       "      <td>The Lovely Bones</td>\n",
       "    </tr>\n",
       "    <tr>\n",
       "      <th>13</th>\n",
       "      <td>The Lovely Bones</td>\n",
       "      <td>The Lovely Bones</td>\n",
       "    </tr>\n",
       "    <tr>\n",
       "      <th>14</th>\n",
       "      <td>The Perks of Being a Wallflower</td>\n",
       "      <td>The Perks of Being a Wallflower</td>\n",
       "    </tr>\n",
       "    <tr>\n",
       "      <th>15</th>\n",
       "      <td>The Great Gatsby</td>\n",
       "      <td>The Great Gatsby</td>\n",
       "    </tr>\n",
       "    <tr>\n",
       "      <th>16</th>\n",
       "      <td>The Great Gatsby</td>\n",
       "      <td>The Great Gatsby</td>\n",
       "    </tr>\n",
       "    <tr>\n",
       "      <th>17</th>\n",
       "      <td>To Kill a Mockingbird</td>\n",
       "      <td>To Kill a Mockingbird</td>\n",
       "    </tr>\n",
       "    <tr>\n",
       "      <th>18</th>\n",
       "      <td>The Book Thief</td>\n",
       "      <td>The Book Thief</td>\n",
       "    </tr>\n",
       "    <tr>\n",
       "      <th>19</th>\n",
       "      <td>The Notebook</td>\n",
       "      <td>The Notebook</td>\n",
       "    </tr>\n",
       "    <tr>\n",
       "      <th>20</th>\n",
       "      <td>Water for Elephants</td>\n",
       "      <td>Water for Elephants</td>\n",
       "    </tr>\n",
       "    <tr>\n",
       "      <th>21</th>\n",
       "      <td>The Princess Bride</td>\n",
       "      <td>The Princess Bride</td>\n",
       "    </tr>\n",
       "    <tr>\n",
       "      <th>22</th>\n",
       "      <td>Gone Girl</td>\n",
       "      <td>Gone Girl</td>\n",
       "    </tr>\n",
       "    <tr>\n",
       "      <th>23</th>\n",
       "      <td>The Time Traveler's Wife</td>\n",
       "      <td>The Time Traveler's Wife</td>\n",
       "    </tr>\n",
       "    <tr>\n",
       "      <th>24</th>\n",
       "      <td>The Maze Runner</td>\n",
       "      <td>The Maze Runner</td>\n",
       "    </tr>\n",
       "    <tr>\n",
       "      <th>25</th>\n",
       "      <td>The Da Vinci Code</td>\n",
       "      <td>The Da Vinci Code</td>\n",
       "    </tr>\n",
       "    <tr>\n",
       "      <th>26</th>\n",
       "      <td>If I Stay</td>\n",
       "      <td>If I Stay</td>\n",
       "    </tr>\n",
       "    <tr>\n",
       "      <th>27</th>\n",
       "      <td>Memoirs of a Geisha</td>\n",
       "      <td>Memoirs of a Geisha</td>\n",
       "    </tr>\n",
       "    <tr>\n",
       "      <th>28</th>\n",
       "      <td>Life of Pi</td>\n",
       "      <td>Life of Pi</td>\n",
       "    </tr>\n",
       "    <tr>\n",
       "      <th>29</th>\n",
       "      <td>The Host</td>\n",
       "      <td>The Host</td>\n",
       "    </tr>\n",
       "    <tr>\n",
       "      <th>...</th>\n",
       "      <td>...</td>\n",
       "      <td>...</td>\n",
       "    </tr>\n",
       "    <tr>\n",
       "      <th>374</th>\n",
       "      <td>Amadeus</td>\n",
       "      <td>Amadeus</td>\n",
       "    </tr>\n",
       "    <tr>\n",
       "      <th>375</th>\n",
       "      <td>Cat on a Hot Tin Roof</td>\n",
       "      <td>Cat on a Hot Tin Roof</td>\n",
       "    </tr>\n",
       "    <tr>\n",
       "      <th>376</th>\n",
       "      <td>High Noon</td>\n",
       "      <td>High Noon</td>\n",
       "    </tr>\n",
       "    <tr>\n",
       "      <th>377</th>\n",
       "      <td>Jumper</td>\n",
       "      <td>Jumper</td>\n",
       "    </tr>\n",
       "    <tr>\n",
       "      <th>378</th>\n",
       "      <td>The Deep End of the Ocean</td>\n",
       "      <td>The Deep End of the Ocean</td>\n",
       "    </tr>\n",
       "    <tr>\n",
       "      <th>379</th>\n",
       "      <td>Disclosure</td>\n",
       "      <td>Disclosure</td>\n",
       "    </tr>\n",
       "    <tr>\n",
       "      <th>380</th>\n",
       "      <td>How to Be Single</td>\n",
       "      <td>How to Be Single</td>\n",
       "    </tr>\n",
       "    <tr>\n",
       "      <th>381</th>\n",
       "      <td>How Green Was My Valley</td>\n",
       "      <td>How Green Was My Valley</td>\n",
       "    </tr>\n",
       "    <tr>\n",
       "      <th>382</th>\n",
       "      <td>The Right Stuff</td>\n",
       "      <td>The Right Stuff</td>\n",
       "    </tr>\n",
       "    <tr>\n",
       "      <th>383</th>\n",
       "      <td>Requiem for a Dream</td>\n",
       "      <td>Requiem for a Dream</td>\n",
       "    </tr>\n",
       "    <tr>\n",
       "      <th>384</th>\n",
       "      <td>Braveheart</td>\n",
       "      <td>Braveheart</td>\n",
       "    </tr>\n",
       "    <tr>\n",
       "      <th>385</th>\n",
       "      <td>Ghost World</td>\n",
       "      <td>Ghost World</td>\n",
       "    </tr>\n",
       "    <tr>\n",
       "      <th>386</th>\n",
       "      <td>On Her Majesty's Secret Service</td>\n",
       "      <td>On Her Majesty's Secret Service</td>\n",
       "    </tr>\n",
       "    <tr>\n",
       "      <th>387</th>\n",
       "      <td>Live and Let Die</td>\n",
       "      <td>Live and Let Die</td>\n",
       "    </tr>\n",
       "    <tr>\n",
       "      <th>388</th>\n",
       "      <td>Freaky Friday</td>\n",
       "      <td>Freaky Friday</td>\n",
       "    </tr>\n",
       "    <tr>\n",
       "      <th>389</th>\n",
       "      <td>Curious George</td>\n",
       "      <td>Curious George</td>\n",
       "    </tr>\n",
       "    <tr>\n",
       "      <th>390</th>\n",
       "      <td>The Merchant of Venice</td>\n",
       "      <td>The Merchant of Venice</td>\n",
       "    </tr>\n",
       "    <tr>\n",
       "      <th>391</th>\n",
       "      <td>The Hotel New Hampshire</td>\n",
       "      <td>The Hotel New Hampshire</td>\n",
       "    </tr>\n",
       "    <tr>\n",
       "      <th>392</th>\n",
       "      <td>A Simple Plan</td>\n",
       "      <td>A Simple Plan</td>\n",
       "    </tr>\n",
       "    <tr>\n",
       "      <th>393</th>\n",
       "      <td>All the Pretty Horses</td>\n",
       "      <td>All the Pretty Horses</td>\n",
       "    </tr>\n",
       "    <tr>\n",
       "      <th>394</th>\n",
       "      <td>The End of the Affair</td>\n",
       "      <td>The End of the Affair</td>\n",
       "    </tr>\n",
       "    <tr>\n",
       "      <th>395</th>\n",
       "      <td>Patriot Games</td>\n",
       "      <td>Patriot Games</td>\n",
       "    </tr>\n",
       "    <tr>\n",
       "      <th>396</th>\n",
       "      <td>Goldfinger</td>\n",
       "      <td>Goldfinger</td>\n",
       "    </tr>\n",
       "    <tr>\n",
       "      <th>397</th>\n",
       "      <td>An Ideal Husband</td>\n",
       "      <td>An Ideal Husband</td>\n",
       "    </tr>\n",
       "    <tr>\n",
       "      <th>398</th>\n",
       "      <td>Morning Glory</td>\n",
       "      <td>Morning Glory</td>\n",
       "    </tr>\n",
       "    <tr>\n",
       "      <th>399</th>\n",
       "      <td>Snow White and the Seven Dwarfs</td>\n",
       "      <td>Snow White and the Seven Dwarfs</td>\n",
       "    </tr>\n",
       "    <tr>\n",
       "      <th>400</th>\n",
       "      <td>The Hunt</td>\n",
       "      <td>The Hunt</td>\n",
       "    </tr>\n",
       "    <tr>\n",
       "      <th>401</th>\n",
       "      <td>The Divide</td>\n",
       "      <td>The Divide</td>\n",
       "    </tr>\n",
       "    <tr>\n",
       "      <th>402</th>\n",
       "      <td>Puss in Boots</td>\n",
       "      <td>Puss in Boots</td>\n",
       "    </tr>\n",
       "    <tr>\n",
       "      <th>403</th>\n",
       "      <td>The Awakening</td>\n",
       "      <td>The Awakening</td>\n",
       "    </tr>\n",
       "  </tbody>\n",
       "</table>\n",
       "<p>404 rows × 2 columns</p>\n",
       "</div>"
      ],
      "text/plain": [
       "                                    book_title  \\\n",
       "0                             The Hunger Games   \n",
       "1        Harry Potter and the Sorcerer's Stone   \n",
       "2          Harry Potter and the Goblet of Fire   \n",
       "3      Harry Potter and the Chamber of Secrets   \n",
       "4                                     Twilight   \n",
       "5                                     Twilight   \n",
       "6                                     The Help   \n",
       "7       Harry Potter and the Half-Blood Prince   \n",
       "8     Harry Potter and the Prisoner of Azkaban   \n",
       "9    Harry Potter and the Order of the Phoenix   \n",
       "10                      The Fault in Our Stars   \n",
       "11                                   Divergent   \n",
       "12                            The Lovely Bones   \n",
       "13                            The Lovely Bones   \n",
       "14             The Perks of Being a Wallflower   \n",
       "15                            The Great Gatsby   \n",
       "16                            The Great Gatsby   \n",
       "17                       To Kill a Mockingbird   \n",
       "18                              The Book Thief   \n",
       "19                                The Notebook   \n",
       "20                         Water for Elephants   \n",
       "21                          The Princess Bride   \n",
       "22                                   Gone Girl   \n",
       "23                    The Time Traveler's Wife   \n",
       "24                             The Maze Runner   \n",
       "25                           The Da Vinci Code   \n",
       "26                                   If I Stay   \n",
       "27                         Memoirs of a Geisha   \n",
       "28                                  Life of Pi   \n",
       "29                                    The Host   \n",
       "..                                         ...   \n",
       "374                                    Amadeus   \n",
       "375                      Cat on a Hot Tin Roof   \n",
       "376                                  High Noon   \n",
       "377                                     Jumper   \n",
       "378                  The Deep End of the Ocean   \n",
       "379                                 Disclosure   \n",
       "380                           How to Be Single   \n",
       "381                    How Green Was My Valley   \n",
       "382                            The Right Stuff   \n",
       "383                        Requiem for a Dream   \n",
       "384                                 Braveheart   \n",
       "385                                Ghost World   \n",
       "386            On Her Majesty's Secret Service   \n",
       "387                           Live and Let Die   \n",
       "388                              Freaky Friday   \n",
       "389                             Curious George   \n",
       "390                     The Merchant of Venice   \n",
       "391                    The Hotel New Hampshire   \n",
       "392                              A Simple Plan   \n",
       "393                      All the Pretty Horses   \n",
       "394                      The End of the Affair   \n",
       "395                              Patriot Games   \n",
       "396                                 Goldfinger   \n",
       "397                           An Ideal Husband   \n",
       "398                              Morning Glory   \n",
       "399            Snow White and the Seven Dwarfs   \n",
       "400                                   The Hunt   \n",
       "401                                 The Divide   \n",
       "402                              Puss in Boots   \n",
       "403                              The Awakening   \n",
       "\n",
       "                                   movie_title  \n",
       "0                             The Hunger Games  \n",
       "1        Harry Potter and the Sorcerer's Stone  \n",
       "2          Harry Potter and the Goblet of Fire  \n",
       "3      Harry Potter and the Chamber of Secrets  \n",
       "4                                     Twilight  \n",
       "5                                     Twilight  \n",
       "6                                     The Help  \n",
       "7       Harry Potter and the Half-Blood Prince  \n",
       "8     Harry Potter and the Prisoner of Azkaban  \n",
       "9    Harry Potter and the Order of the Phoenix  \n",
       "10                      The Fault in Our Stars  \n",
       "11                                   Divergent  \n",
       "12                            The Lovely Bones  \n",
       "13                            The Lovely Bones  \n",
       "14             The Perks of Being a Wallflower  \n",
       "15                            The Great Gatsby  \n",
       "16                            The Great Gatsby  \n",
       "17                       To Kill a Mockingbird  \n",
       "18                              The Book Thief  \n",
       "19                                The Notebook  \n",
       "20                         Water for Elephants  \n",
       "21                          The Princess Bride  \n",
       "22                                   Gone Girl  \n",
       "23                    The Time Traveler's Wife  \n",
       "24                             The Maze Runner  \n",
       "25                           The Da Vinci Code  \n",
       "26                                   If I Stay  \n",
       "27                         Memoirs of a Geisha  \n",
       "28                                  Life of Pi  \n",
       "29                                    The Host  \n",
       "..                                         ...  \n",
       "374                                    Amadeus  \n",
       "375                      Cat on a Hot Tin Roof  \n",
       "376                                  High Noon  \n",
       "377                                     Jumper  \n",
       "378                  The Deep End of the Ocean  \n",
       "379                                 Disclosure  \n",
       "380                           How to Be Single  \n",
       "381                    How Green Was My Valley  \n",
       "382                            The Right Stuff  \n",
       "383                        Requiem for a Dream  \n",
       "384                                 Braveheart  \n",
       "385                                Ghost World  \n",
       "386            On Her Majesty's Secret Service  \n",
       "387                           Live and Let Die  \n",
       "388                              Freaky Friday  \n",
       "389                             Curious George  \n",
       "390                     The Merchant of Venice  \n",
       "391                    The Hotel New Hampshire  \n",
       "392                              A Simple Plan  \n",
       "393                      All the Pretty Horses  \n",
       "394                      The End of the Affair  \n",
       "395                              Patriot Games  \n",
       "396                                 Goldfinger  \n",
       "397                           An Ideal Husband  \n",
       "398                              Morning Glory  \n",
       "399            Snow White and the Seven Dwarfs  \n",
       "400                                   The Hunt  \n",
       "401                                 The Divide  \n",
       "402                              Puss in Boots  \n",
       "403                              The Awakening  \n",
       "\n",
       "[404 rows x 2 columns]"
      ]
     },
     "execution_count": 72,
     "metadata": {},
     "output_type": "execute_result"
    }
   ],
   "source": [
    "book_movie_imdb[['book_title', 'movie_title']]"
   ]
  },
  {
   "cell_type": "code",
   "execution_count": 73,
   "metadata": {},
   "outputs": [],
   "source": [
    "book_movie_imdb.to_csv('book_movie_imdb.csv', index = False)"
   ]
  },
  {
   "cell_type": "code",
   "execution_count": null,
   "metadata": {},
   "outputs": [],
   "source": []
  }
 ],
 "metadata": {
  "kernelspec": {
   "display_name": "Python 3",
   "language": "python",
   "name": "python3"
  },
  "language_info": {
   "codemirror_mode": {
    "name": "ipython",
    "version": 3
   },
   "file_extension": ".py",
   "mimetype": "text/x-python",
   "name": "python",
   "nbconvert_exporter": "python",
   "pygments_lexer": "ipython3",
   "version": "3.7.3"
  }
 },
 "nbformat": 4,
 "nbformat_minor": 2
}
