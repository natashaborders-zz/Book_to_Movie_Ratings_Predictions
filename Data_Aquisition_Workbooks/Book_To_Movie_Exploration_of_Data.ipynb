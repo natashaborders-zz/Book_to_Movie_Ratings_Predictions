{
 "cells": [
  {
   "cell_type": "code",
   "execution_count": 37,
   "metadata": {},
   "outputs": [],
   "source": [
    "#######################\n",
    "# standard code block #\n",
    "#######################\n",
    "# Necessary imports\n",
    "import pandas as pd\n",
    "import numpy as np\n",
    "import seaborn as sns\n",
    "import patsy\n",
    "import scipy.stats as stats\n",
    "\n",
    "import statsmodels.api as sm\n",
    "import statsmodels.formula.api as smf\n",
    "from sklearn import preprocessing\n",
    "from sklearn.linear_model import LinearRegression\n",
    "import matplotlib.pyplot as plt\n",
    "%matplotlib inline\n",
    "# see https://ipython.readthedocs.io/en/stable/interactive/magics.html\n",
    "import pickle"
   ]
  },
  {
   "cell_type": "code",
   "execution_count": 38,
   "metadata": {
    "scrolled": false
   },
   "outputs": [],
   "source": [
    "with open('book_movie.pkl', 'rb') as f:\n",
    "    book_movie_data = pickle.load(f)"
   ]
  },
  {
   "cell_type": "code",
   "execution_count": 64,
   "metadata": {},
   "outputs": [],
   "source": [
    "#len(book_movie_data[book_movie_data.budget == 0])/len(book_movie_data)"
   ]
  },
  {
   "cell_type": "code",
   "execution_count": 59,
   "metadata": {},
   "outputs": [
    {
     "data": {
      "text/plain": [
       "book_title                 0\n",
       "book_rating                0\n",
       "book_number_rating         0\n",
       "book_year_published        1\n",
       "adult                      0\n",
       "belongs_to_collection    629\n",
       "budget                     0\n",
       "genres                     0\n",
       "homepage                 525\n",
       "id                         0\n",
       "imdb_id                    0\n",
       "original_language          0\n",
       "original_title             0\n",
       "overview                   0\n",
       "popularity                 0\n",
       "poster_path                0\n",
       "production_companies       0\n",
       "production_countries       0\n",
       "release_date               0\n",
       "revenue                    0\n",
       "runtime                    0\n",
       "spoken_languages           0\n",
       "status                     0\n",
       "tagline                  175\n",
       "title                      0\n",
       "video                      0\n",
       "vote_average               0\n",
       "vote_count                 0\n",
       "dtype: int64"
      ]
     },
     "execution_count": 59,
     "metadata": {},
     "output_type": "execute_result"
    }
   ],
   "source": [
    "book_movie_data.isnull().sum()"
   ]
  },
  {
   "cell_type": "code",
   "execution_count": 40,
   "metadata": {},
   "outputs": [],
   "source": [
    "book_movie_data['popularity']=pd.to_numeric(book_movie_data['popularity'])"
   ]
  },
  {
   "cell_type": "markdown",
   "metadata": {},
   "source": [
    "In the course of investigation, saw a trend of missing budget and revenue numbers. To keep the majority of the dataset, decided to focus on ratings and preferences instead of the money aspect of the movies."
   ]
  },
  {
   "cell_type": "code",
   "execution_count": 41,
   "metadata": {},
   "outputs": [],
   "source": [
    "#pairing down the features to those of most interest, numerical.\n",
    "\n",
    "\n",
    "bk_mv = book_movie_data.loc[:,['book_title', 'book_rating', 'book_number_rating', \n",
    "                      'book_year_published', 'title', 'vote_average', \n",
    "                      'vote_count', 'budget', 'runtime', \n",
    "                      'release_date','revenue', 'popularity']]"
   ]
  },
  {
   "cell_type": "code",
   "execution_count": 42,
   "metadata": {},
   "outputs": [
    {
     "name": "stdout",
     "output_type": "stream",
     "text": [
      "<class 'pandas.core.frame.DataFrame'>\n",
      "Int64Index: 705 entries, 0 to 704\n",
      "Data columns (total 12 columns):\n",
      "book_title             705 non-null object\n",
      "book_rating            705 non-null float64\n",
      "book_number_rating     705 non-null object\n",
      "book_year_published    704 non-null object\n",
      "title                  705 non-null object\n",
      "vote_average           705 non-null float64\n",
      "vote_count             705 non-null float64\n",
      "budget                 705 non-null int64\n",
      "runtime                705 non-null float64\n",
      "release_date           705 non-null object\n",
      "revenue                705 non-null float64\n",
      "popularity             705 non-null float64\n",
      "dtypes: float64(6), int64(1), object(5)\n",
      "memory usage: 71.6+ KB\n"
     ]
    }
   ],
   "source": [
    "bk_mv.info()"
   ]
  },
  {
   "cell_type": "code",
   "execution_count": 80,
   "metadata": {},
   "outputs": [],
   "source": [
    "with open('bk_mv.pkl', 'wb') as f:\n",
    "    pickle.dump(bk_mv, f)"
   ]
  },
  {
   "cell_type": "code",
   "execution_count": 43,
   "metadata": {},
   "outputs": [],
   "source": [
    "bk_mv.to_pickle('bk_mv_df_pickle.pkl')"
   ]
  },
  {
   "cell_type": "code",
   "execution_count": 44,
   "metadata": {
    "scrolled": true
   },
   "outputs": [
    {
     "name": "stdout",
     "output_type": "stream",
     "text": [
      "<class 'pandas.core.frame.DataFrame'>\n",
      "Int64Index: 705 entries, 0 to 704\n",
      "Data columns (total 12 columns):\n",
      "book_title             705 non-null object\n",
      "book_rating            705 non-null float64\n",
      "book_number_rating     705 non-null object\n",
      "book_year_published    704 non-null object\n",
      "title                  705 non-null object\n",
      "vote_average           705 non-null float64\n",
      "vote_count             705 non-null float64\n",
      "budget                 705 non-null int64\n",
      "runtime                705 non-null float64\n",
      "release_date           705 non-null object\n",
      "revenue                705 non-null float64\n",
      "popularity             705 non-null float64\n",
      "dtypes: float64(6), int64(1), object(5)\n",
      "memory usage: 71.6+ KB\n"
     ]
    }
   ],
   "source": [
    "bk_mv.info()"
   ]
  },
  {
   "cell_type": "code",
   "execution_count": 45,
   "metadata": {},
   "outputs": [
    {
     "data": {
      "text/html": [
       "<div>\n",
       "<style scoped>\n",
       "    .dataframe tbody tr th:only-of-type {\n",
       "        vertical-align: middle;\n",
       "    }\n",
       "\n",
       "    .dataframe tbody tr th {\n",
       "        vertical-align: top;\n",
       "    }\n",
       "\n",
       "    .dataframe thead th {\n",
       "        text-align: right;\n",
       "    }\n",
       "</style>\n",
       "<table border=\"1\" class=\"dataframe\">\n",
       "  <thead>\n",
       "    <tr style=\"text-align: right;\">\n",
       "      <th></th>\n",
       "      <th>book_rating</th>\n",
       "      <th>vote_average</th>\n",
       "      <th>vote_count</th>\n",
       "      <th>budget</th>\n",
       "      <th>runtime</th>\n",
       "      <th>revenue</th>\n",
       "      <th>popularity</th>\n",
       "    </tr>\n",
       "  </thead>\n",
       "  <tbody>\n",
       "    <tr>\n",
       "      <th>count</th>\n",
       "      <td>705.000000</td>\n",
       "      <td>705.000000</td>\n",
       "      <td>705.000000</td>\n",
       "      <td>7.050000e+02</td>\n",
       "      <td>705.000000</td>\n",
       "      <td>7.050000e+02</td>\n",
       "      <td>705.000000</td>\n",
       "    </tr>\n",
       "    <tr>\n",
       "      <th>mean</th>\n",
       "      <td>3.922128</td>\n",
       "      <td>6.326383</td>\n",
       "      <td>584.551773</td>\n",
       "      <td>1.840347e+07</td>\n",
       "      <td>113.280851</td>\n",
       "      <td>5.917364e+07</td>\n",
       "      <td>7.955678</td>\n",
       "    </tr>\n",
       "    <tr>\n",
       "      <th>std</th>\n",
       "      <td>0.222584</td>\n",
       "      <td>1.222417</td>\n",
       "      <td>1154.862931</td>\n",
       "      <td>3.419483e+07</td>\n",
       "      <td>33.718091</td>\n",
       "      <td>1.370832e+08</td>\n",
       "      <td>9.574959</td>\n",
       "    </tr>\n",
       "    <tr>\n",
       "      <th>min</th>\n",
       "      <td>3.080000</td>\n",
       "      <td>0.000000</td>\n",
       "      <td>0.000000</td>\n",
       "      <td>0.000000e+00</td>\n",
       "      <td>25.000000</td>\n",
       "      <td>0.000000e+00</td>\n",
       "      <td>0.001459</td>\n",
       "    </tr>\n",
       "    <tr>\n",
       "      <th>25%</th>\n",
       "      <td>3.800000</td>\n",
       "      <td>5.900000</td>\n",
       "      <td>19.000000</td>\n",
       "      <td>0.000000e+00</td>\n",
       "      <td>95.000000</td>\n",
       "      <td>0.000000e+00</td>\n",
       "      <td>2.290681</td>\n",
       "    </tr>\n",
       "    <tr>\n",
       "      <th>50%</th>\n",
       "      <td>3.940000</td>\n",
       "      <td>6.500000</td>\n",
       "      <td>121.000000</td>\n",
       "      <td>2.264080e+05</td>\n",
       "      <td>108.000000</td>\n",
       "      <td>0.000000e+00</td>\n",
       "      <td>6.764056</td>\n",
       "    </tr>\n",
       "    <tr>\n",
       "      <th>75%</th>\n",
       "      <td>4.060000</td>\n",
       "      <td>7.000000</td>\n",
       "      <td>610.000000</td>\n",
       "      <td>2.500000e+07</td>\n",
       "      <td>125.000000</td>\n",
       "      <td>5.087714e+07</td>\n",
       "      <td>10.673296</td>\n",
       "    </tr>\n",
       "    <tr>\n",
       "      <th>max</th>\n",
       "      <td>4.560000</td>\n",
       "      <td>10.000000</td>\n",
       "      <td>9678.000000</td>\n",
       "      <td>2.500000e+08</td>\n",
       "      <td>386.000000</td>\n",
       "      <td>1.025491e+09</td>\n",
       "      <td>154.801009</td>\n",
       "    </tr>\n",
       "  </tbody>\n",
       "</table>\n",
       "</div>"
      ],
      "text/plain": [
       "       book_rating  vote_average   vote_count        budget     runtime  \\\n",
       "count   705.000000    705.000000   705.000000  7.050000e+02  705.000000   \n",
       "mean      3.922128      6.326383   584.551773  1.840347e+07  113.280851   \n",
       "std       0.222584      1.222417  1154.862931  3.419483e+07   33.718091   \n",
       "min       3.080000      0.000000     0.000000  0.000000e+00   25.000000   \n",
       "25%       3.800000      5.900000    19.000000  0.000000e+00   95.000000   \n",
       "50%       3.940000      6.500000   121.000000  2.264080e+05  108.000000   \n",
       "75%       4.060000      7.000000   610.000000  2.500000e+07  125.000000   \n",
       "max       4.560000     10.000000  9678.000000  2.500000e+08  386.000000   \n",
       "\n",
       "            revenue  popularity  \n",
       "count  7.050000e+02  705.000000  \n",
       "mean   5.917364e+07    7.955678  \n",
       "std    1.370832e+08    9.574959  \n",
       "min    0.000000e+00    0.001459  \n",
       "25%    0.000000e+00    2.290681  \n",
       "50%    0.000000e+00    6.764056  \n",
       "75%    5.087714e+07   10.673296  \n",
       "max    1.025491e+09  154.801009  "
      ]
     },
     "execution_count": 45,
     "metadata": {},
     "output_type": "execute_result"
    }
   ],
   "source": [
    "bk_mv.describe()"
   ]
  },
  {
   "cell_type": "code",
   "execution_count": 46,
   "metadata": {},
   "outputs": [
    {
     "data": {
      "text/html": [
       "<div>\n",
       "<style scoped>\n",
       "    .dataframe tbody tr th:only-of-type {\n",
       "        vertical-align: middle;\n",
       "    }\n",
       "\n",
       "    .dataframe tbody tr th {\n",
       "        vertical-align: top;\n",
       "    }\n",
       "\n",
       "    .dataframe thead th {\n",
       "        text-align: right;\n",
       "    }\n",
       "</style>\n",
       "<table border=\"1\" class=\"dataframe\">\n",
       "  <thead>\n",
       "    <tr style=\"text-align: right;\">\n",
       "      <th></th>\n",
       "      <th>book_rating</th>\n",
       "      <th>vote_average</th>\n",
       "      <th>vote_count</th>\n",
       "      <th>budget</th>\n",
       "      <th>runtime</th>\n",
       "      <th>revenue</th>\n",
       "      <th>popularity</th>\n",
       "    </tr>\n",
       "  </thead>\n",
       "  <tbody>\n",
       "    <tr>\n",
       "      <th>book_rating</th>\n",
       "      <td>1.000000</td>\n",
       "      <td>0.206703</td>\n",
       "      <td>0.202751</td>\n",
       "      <td>0.119831</td>\n",
       "      <td>-0.005385</td>\n",
       "      <td>0.171653</td>\n",
       "      <td>0.080529</td>\n",
       "    </tr>\n",
       "    <tr>\n",
       "      <th>vote_average</th>\n",
       "      <td>0.206703</td>\n",
       "      <td>1.000000</td>\n",
       "      <td>0.272046</td>\n",
       "      <td>0.099657</td>\n",
       "      <td>0.001977</td>\n",
       "      <td>0.158091</td>\n",
       "      <td>0.247619</td>\n",
       "    </tr>\n",
       "    <tr>\n",
       "      <th>vote_count</th>\n",
       "      <td>0.202751</td>\n",
       "      <td>0.272046</td>\n",
       "      <td>1.000000</td>\n",
       "      <td>0.603412</td>\n",
       "      <td>0.109464</td>\n",
       "      <td>0.747391</td>\n",
       "      <td>0.645435</td>\n",
       "    </tr>\n",
       "    <tr>\n",
       "      <th>budget</th>\n",
       "      <td>0.119831</td>\n",
       "      <td>0.099657</td>\n",
       "      <td>0.603412</td>\n",
       "      <td>1.000000</td>\n",
       "      <td>0.121404</td>\n",
       "      <td>0.753144</td>\n",
       "      <td>0.375680</td>\n",
       "    </tr>\n",
       "    <tr>\n",
       "      <th>runtime</th>\n",
       "      <td>-0.005385</td>\n",
       "      <td>0.001977</td>\n",
       "      <td>0.109464</td>\n",
       "      <td>0.121404</td>\n",
       "      <td>1.000000</td>\n",
       "      <td>0.113938</td>\n",
       "      <td>0.069944</td>\n",
       "    </tr>\n",
       "    <tr>\n",
       "      <th>revenue</th>\n",
       "      <td>0.171653</td>\n",
       "      <td>0.158091</td>\n",
       "      <td>0.747391</td>\n",
       "      <td>0.753144</td>\n",
       "      <td>0.113938</td>\n",
       "      <td>1.000000</td>\n",
       "      <td>0.447011</td>\n",
       "    </tr>\n",
       "    <tr>\n",
       "      <th>popularity</th>\n",
       "      <td>0.080529</td>\n",
       "      <td>0.247619</td>\n",
       "      <td>0.645435</td>\n",
       "      <td>0.375680</td>\n",
       "      <td>0.069944</td>\n",
       "      <td>0.447011</td>\n",
       "      <td>1.000000</td>\n",
       "    </tr>\n",
       "  </tbody>\n",
       "</table>\n",
       "</div>"
      ],
      "text/plain": [
       "              book_rating  vote_average  vote_count    budget   runtime  \\\n",
       "book_rating      1.000000      0.206703    0.202751  0.119831 -0.005385   \n",
       "vote_average     0.206703      1.000000    0.272046  0.099657  0.001977   \n",
       "vote_count       0.202751      0.272046    1.000000  0.603412  0.109464   \n",
       "budget           0.119831      0.099657    0.603412  1.000000  0.121404   \n",
       "runtime         -0.005385      0.001977    0.109464  0.121404  1.000000   \n",
       "revenue          0.171653      0.158091    0.747391  0.753144  0.113938   \n",
       "popularity       0.080529      0.247619    0.645435  0.375680  0.069944   \n",
       "\n",
       "               revenue  popularity  \n",
       "book_rating   0.171653    0.080529  \n",
       "vote_average  0.158091    0.247619  \n",
       "vote_count    0.747391    0.645435  \n",
       "budget        0.753144    0.375680  \n",
       "runtime       0.113938    0.069944  \n",
       "revenue       1.000000    0.447011  \n",
       "popularity    0.447011    1.000000  "
      ]
     },
     "execution_count": 46,
     "metadata": {},
     "output_type": "execute_result"
    }
   ],
   "source": [
    "bk_mv.corr()"
   ]
  },
  {
   "cell_type": "code",
   "execution_count": 47,
   "metadata": {},
   "outputs": [
    {
     "data": {
      "image/png": "[encoded data removed]",
      "text/plain": [
       "<Figure size 1080x864 with 2 Axes>"
      ]
     },
     "metadata": {
      "needs_background": "light"
     },
     "output_type": "display_data"
    }
   ],
   "source": [
    "plt.figure(figsize = (15,12))\n",
    "\n",
    "sns.heatmap(bk_mv.corr(), cmap=\"seismic\", annot=True, vmin=-1, vmax=1);"
   ]
  },
  {
   "cell_type": "code",
   "execution_count": null,
   "metadata": {},
   "outputs": [],
   "source": [
    "sns.pairplot(bk_mv, kind = 'scatter')"
   ]
  },
  {
   "cell_type": "code",
   "execution_count": 48,
   "metadata": {
    "scrolled": true
   },
   "outputs": [
    {
     "data": {
      "text/html": [
       "<table class=\"simpletable\">\n",
       "<caption>OLS Regression Results</caption>\n",
       "<tr>\n",
       "  <th>Dep. Variable:</th>         <td>revenue</td>     <th>  R-squared:         </th> <td>   0.703</td> \n",
       "</tr>\n",
       "<tr>\n",
       "  <th>Model:</th>                   <td>OLS</td>       <th>  Adj. R-squared:    </th> <td>   0.701</td> \n",
       "</tr>\n",
       "<tr>\n",
       "  <th>Method:</th>             <td>Least Squares</td>  <th>  F-statistic:       </th> <td>   331.0</td> \n",
       "</tr>\n",
       "<tr>\n",
       "  <th>Date:</th>             <td>Thu, 11 Apr 2019</td> <th>  Prob (F-statistic):</th> <td>1.49e-181</td>\n",
       "</tr>\n",
       "<tr>\n",
       "  <th>Time:</th>                 <td>13:57:51</td>     <th>  Log-Likelihood:    </th> <td> -13781.</td> \n",
       "</tr>\n",
       "<tr>\n",
       "  <th>No. Observations:</th>      <td>   705</td>      <th>  AIC:               </th> <td>2.757e+04</td>\n",
       "</tr>\n",
       "<tr>\n",
       "  <th>Df Residuals:</th>          <td>   699</td>      <th>  BIC:               </th> <td>2.760e+04</td>\n",
       "</tr>\n",
       "<tr>\n",
       "  <th>Df Model:</th>              <td>     5</td>      <th>                     </th>     <td> </td>    \n",
       "</tr>\n",
       "<tr>\n",
       "  <th>Covariance Type:</th>      <td>nonrobust</td>    <th>                     </th>     <td> </td>    \n",
       "</tr>\n",
       "</table>\n",
       "<table class=\"simpletable\">\n",
       "<tr>\n",
       "        <td></td>          <th>coef</th>     <th>std err</th>      <th>t</th>      <th>P>|t|</th>  <th>[0.025</th>    <th>0.975]</th>  \n",
       "</tr>\n",
       "<tr>\n",
       "  <th>Intercept</th>    <td>-5.816e+07</td> <td> 5.23e+07</td> <td>   -1.113</td> <td> 0.266</td> <td>-1.61e+08</td> <td> 4.45e+07</td>\n",
       "</tr>\n",
       "<tr>\n",
       "  <th>book_rating</th>  <td> 1.573e+07</td> <td> 1.31e+07</td> <td>    1.197</td> <td> 0.232</td> <td>-1.01e+07</td> <td> 4.15e+07</td>\n",
       "</tr>\n",
       "<tr>\n",
       "  <th>budget</th>       <td>    1.8951</td> <td>    0.104</td> <td>   18.181</td> <td> 0.000</td> <td>    1.690</td> <td>    2.100</td>\n",
       "</tr>\n",
       "<tr>\n",
       "  <th>runtime</th>      <td> 2.514e+04</td> <td> 8.46e+04</td> <td>    0.297</td> <td> 0.766</td> <td>-1.41e+05</td> <td> 1.91e+05</td>\n",
       "</tr>\n",
       "<tr>\n",
       "  <th>vote_count</th>   <td> 5.481e+04</td> <td> 3210.902</td> <td>   17.069</td> <td> 0.000</td> <td> 4.85e+04</td> <td> 6.11e+04</td>\n",
       "</tr>\n",
       "<tr>\n",
       "  <th>vote_average</th> <td>-2.234e+06</td> <td> 2.44e+06</td> <td>   -0.914</td> <td> 0.361</td> <td>-7.03e+06</td> <td> 2.56e+06</td>\n",
       "</tr>\n",
       "</table>\n",
       "<table class=\"simpletable\">\n",
       "<tr>\n",
       "  <th>Omnibus:</th>       <td>359.081</td> <th>  Durbin-Watson:     </th> <td>   1.805</td>\n",
       "</tr>\n",
       "<tr>\n",
       "  <th>Prob(Omnibus):</th> <td> 0.000</td>  <th>  Jarque-Bera (JB):  </th> <td>8206.549</td>\n",
       "</tr>\n",
       "<tr>\n",
       "  <th>Skew:</th>          <td> 1.766</td>  <th>  Prob(JB):          </th> <td>    0.00</td>\n",
       "</tr>\n",
       "<tr>\n",
       "  <th>Kurtosis:</th>      <td>19.337</td>  <th>  Cond. No.          </th> <td>7.38e+08</td>\n",
       "</tr>\n",
       "</table><br/><br/>Warnings:<br/>[1] Standard Errors assume that the covariance matrix of the errors is correctly specified.<br/>[2] The condition number is large, 7.38e+08. This might indicate that there are<br/>strong multicollinearity or other numerical problems."
      ],
      "text/plain": [
       "<class 'statsmodels.iolib.summary.Summary'>\n",
       "\"\"\"\n",
       "                            OLS Regression Results                            \n",
       "==============================================================================\n",
       "Dep. Variable:                revenue   R-squared:                       0.703\n",
       "Model:                            OLS   Adj. R-squared:                  0.701\n",
       "Method:                 Least Squares   F-statistic:                     331.0\n",
       "Date:                Thu, 11 Apr 2019   Prob (F-statistic):          1.49e-181\n",
       "Time:                        13:57:51   Log-Likelihood:                -13781.\n",
       "No. Observations:                 705   AIC:                         2.757e+04\n",
       "Df Residuals:                     699   BIC:                         2.760e+04\n",
       "Df Model:                           5                                         \n",
       "Covariance Type:            nonrobust                                         \n",
       "================================================================================\n",
       "                   coef    std err          t      P>|t|      [0.025      0.975]\n",
       "--------------------------------------------------------------------------------\n",
       "Intercept    -5.816e+07   5.23e+07     -1.113      0.266   -1.61e+08    4.45e+07\n",
       "book_rating   1.573e+07   1.31e+07      1.197      0.232   -1.01e+07    4.15e+07\n",
       "budget           1.8951      0.104     18.181      0.000       1.690       2.100\n",
       "runtime       2.514e+04   8.46e+04      0.297      0.766   -1.41e+05    1.91e+05\n",
       "vote_count    5.481e+04   3210.902     17.069      0.000    4.85e+04    6.11e+04\n",
       "vote_average -2.234e+06   2.44e+06     -0.914      0.361   -7.03e+06    2.56e+06\n",
       "==============================================================================\n",
       "Omnibus:                      359.081   Durbin-Watson:                   1.805\n",
       "Prob(Omnibus):                  0.000   Jarque-Bera (JB):             8206.549\n",
       "Skew:                           1.766   Prob(JB):                         0.00\n",
       "Kurtosis:                      19.337   Cond. No.                     7.38e+08\n",
       "==============================================================================\n",
       "\n",
       "Warnings:\n",
       "[1] Standard Errors assume that the covariance matrix of the errors is correctly specified.\n",
       "[2] The condition number is large, 7.38e+08. This might indicate that there are\n",
       "strong multicollinearity or other numerical problems.\n",
       "\"\"\""
      ]
     },
     "execution_count": 48,
     "metadata": {},
     "output_type": "execute_result"
    }
   ],
   "source": [
    "# Create your feature matrix (X) and target vector (y)\n",
    "y, X = patsy.dmatrices('revenue ~ book_rating + budget + runtime + vote_count + vote_average', data=bk_mv, return_type=\"dataframe\")\n",
    "\n",
    "# Create your model\n",
    "model = sm.OLS(y, X)\n",
    "\n",
    "# Fit your model to your training set\n",
    "fit = model.fit()\n",
    "\n",
    "# Print summary statistics of the model's performance\n",
    "fit.summary()"
   ]
  },
  {
   "cell_type": "code",
   "execution_count": 35,
   "metadata": {},
   "outputs": [],
   "source": [
    "lr = LinearRegression()\n",
    "fit = lr.fit(X,y)"
   ]
  },
  {
   "cell_type": "code",
   "execution_count": 36,
   "metadata": {},
   "outputs": [
    {
     "data": {
      "image/png": "[encoded data removed]",
      "text/plain": [
       "<Figure size 720x432 with 1 Axes>"
      ]
     },
     "metadata": {},
     "output_type": "display_data"
    }
   ],
   "source": [
    "bk_mv['predict'] = fit.predict(X)\n",
    "bk_mv['resid'] = bk_mv.revenue-bk_mv.predict\n",
    "with sns.axes_style('white'):\n",
    "    plot=bk_mv.plot(kind='scatter',\n",
    "                  x='predict',y='resid',alpha=0.2,figsize=(10,6))"
   ]
  },
  {
   "cell_type": "code",
   "execution_count": null,
   "metadata": {},
   "outputs": [],
   "source": []
  }
 ],
 "metadata": {
  "kernelspec": {
   "display_name": "Python 3",
   "language": "python",
   "name": "python3"
  },
  "language_info": {
   "codemirror_mode": {
    "name": "ipython",
    "version": 3
   },
   "file_extension": ".py",
   "mimetype": "text/x-python",
   "name": "python",
   "nbconvert_exporter": "python",
   "pygments_lexer": "ipython3",
   "version": "3.7.3"
  }
 },
 "nbformat": 4,
 "nbformat_minor": 2
}
