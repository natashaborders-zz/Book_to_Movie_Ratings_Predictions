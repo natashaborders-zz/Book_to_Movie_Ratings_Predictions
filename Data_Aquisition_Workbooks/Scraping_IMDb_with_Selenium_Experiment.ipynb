{
 "cells": [
  {
   "cell_type": "markdown",
   "metadata": {},
   "source": [
    "Created a script with Selenium to scrape IMDb but the results were not consistent enough across the dataset to use for the final data analysis."
   ]
  },
  {
   "cell_type": "code",
   "execution_count": null,
   "metadata": {},
   "outputs": [],
   "source": [
    "from selenium import webdriver\n",
    "from selenium.webdriver.common.keys import Keys\n",
    "import time\n",
    "import pickle\n",
    "from selenium.webdriver.common.by import By\n",
    "\n",
    "import os\n",
    "chromedriver = \"/Applications/chromedriver\" # path to the chromedriver executable\n",
    "os.environ[\"webdriver.chrome.driver\"] = chromedriver\n",
    "\n",
    "\n",
    "driver = webdriver.Chrome(chromedriver)\n",
    "driver.get(\"https://www.imdb.com/\")"
   ]
  },
  {
   "cell_type": "code",
   "execution_count": null,
   "metadata": {},
   "outputs": [],
   "source": [
    "with open('title.pkl', 'rb') as f:\n",
    "    title_list = pickle.load(f)"
   ]
  },
  {
   "cell_type": "code",
   "execution_count": null,
   "metadata": {},
   "outputs": [],
   "source": [
    "movie_titles = []\n",
    "ratingValues = []\n",
    "metaScores = []\n",
    "runtimes = []\n",
    "revenues = []\n",
    "budgets = []\n",
    "popularities = []\n",
    "world_revenues = []\n",
    "\n"
   ]
  },
  {
   "cell_type": "code",
   "execution_count": null,
   "metadata": {},
   "outputs": [],
   "source": [
    "for title in title_list:\n",
    "    #search for the movie\n",
    "    query = driver.find_element_by_id(\"navbar-query\")\n",
    "    query.send_keys(title)\n",
    "    query.send_keys(Keys.RETURN)\n",
    "\n",
    "    #click on the movie result\n",
    "    driver.find_element_by_css_selector(\".result_text > a\").click()\n",
    "    current_url = driver.current_url \n",
    "\n",
    "    #get the title \n",
    "    movieTitle = driver.find_element_by_css_selector(\"div.title_wrapper h1\").text.strip()\n",
    "    movie_titles.append(movieTitle)\n",
    "    \n",
    "    #get the rating\n",
    "    try:\n",
    "        ratingValue = driver.find_element_by_css_selector(\".ratingValue span\").text\n",
    "        ratingValues.append(ratingValue)\n",
    "    except:\n",
    "        ratingValues.append(float('NaN'))\n",
    "\n",
    "    #get the metascore\n",
    "    try:\n",
    "        metaScore = driver.find_element_by_css_selector(\".metacriticScore span\").text\n",
    "        metaScores.append(metaScore)\n",
    "    except:\n",
    "        metaScores.append(float('NaN'))\n",
    "\n",
    "    #get the runtime\n",
    "    try:\n",
    "        runtime = driver.find_elements_by_css_selector(\"time\")[-1].text\n",
    "        runtime = runtime.split(\" \")[0]\n",
    "        runtimes.append(runtime)\n",
    "    except:\n",
    "        runtimes.append(float('NaN'))\n",
    "\n",
    "    #get the gross USA\n",
    "    try:\n",
    "        gross = driver.find_element_by_xpath('//*[@id=\"titleDetails\"]/div[9]').text\n",
    "        gross = gross.split(\":\")[1].strip()\n",
    "        revenues.append(gross)\n",
    "    except:\n",
    "        revenues.append(float('NaN'))\n",
    "\n",
    "    #get the worldwide gross\n",
    "    try:\n",
    "        wwgross = driver.find_element_by_xpath('//*[@id=\"titleDetails\"]/div[10]').text\n",
    "        wwgross = wwgross.split(\":\")[1].strip()\n",
    "        world_revenues.append(wwgross)\n",
    "    except:\n",
    "        world_revenues.append(float('NaN'))\n",
    "\n",
    "    #get the budget\n",
    "    try:\n",
    "        budget = driver.find_element_by_xpath('//*[@id=\"titleDetails\"]/div[7]').text\n",
    "        budget = budget.split(\":\")[1].strip()\n",
    "        budget = budget.split(\" \")[0]\n",
    "        budgets.append(budget)\n",
    "    except:\n",
    "        budgets.append(float('NaN'))\n",
    "\n",
    "    #get the popularity\n",
    "    try:\n",
    "        popularity = driver.find_element_by_css_selector(\"div.titleReviewBarItem:last-of-type span.subText\").text\n",
    "        popularity = popularity.split(\" \")[0]\n",
    "        popularities.append(popularity)\n",
    "    except:\n",
    "        popularities.append(float('NaN'))"
   ]
  },
  {
   "cell_type": "code",
   "execution_count": null,
   "metadata": {},
   "outputs": [],
   "source": [
    "print(ratingValues)\n",
    "print(metaScores)\n",
    "print(runtimes)\n",
    "print(revenues)\n",
    "print(movie_titles)\n",
    "print(budgets)\n",
    "print(popularities)\n",
    "print(world_revenues)"
   ]
  },
  {
   "cell_type": "code",
   "execution_count": null,
   "metadata": {},
   "outputs": [],
   "source": [
    "print(title)"
   ]
  }
 ],
 "metadata": {
  "kernelspec": {
   "display_name": "Python 3",
   "language": "python",
   "name": "python3"
  },
  "language_info": {
   "codemirror_mode": {
    "name": "ipython",
    "version": 3
   },
   "file_extension": ".py",
   "mimetype": "text/x-python",
   "name": "python",
   "nbconvert_exporter": "python",
   "pygments_lexer": "ipython3",
   "version": "3.7.3"
  }
 },
 "nbformat": 4,
 "nbformat_minor": 2
}
