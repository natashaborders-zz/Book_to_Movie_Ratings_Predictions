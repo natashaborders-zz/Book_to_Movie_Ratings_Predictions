{
 "cells": [
  {
   "cell_type": "code",
   "execution_count": 87,
   "metadata": {},
   "outputs": [],
   "source": [
    "from selenium import webdriver\n",
    "from selenium.webdriver.common.keys import Keys\n",
    "from selenium.common.exceptions import TimeoutException\n",
    "from selenium.webdriver.support.ui import WebDriverWait\n",
    "from selenium.webdriver.support import expected_conditions as EC\n",
    "from selenium.webdriver.common.by import By\n",
    "\n",
    "import time\n",
    "import os\n",
    "chromedriver = \"/Applications/chromedriver\" # path to the chromedriver executable\n",
    "os.environ[\"webdriver.chrome.driver\"] = chromedriver\n",
    "import pickle"
   ]
  },
  {
   "cell_type": "code",
   "execution_count": 88,
   "metadata": {},
   "outputs": [],
   "source": [
    "driver = webdriver.Chrome(chromedriver)\n",
    "url = \"https://www.goodreads.com/shelf/show/books-made-into-movies?page=1\"\n",
    "driver.get(url)\n",
    "headers = requests.utils.default_headers()\n",
    "headers.update(\n",
    "    {\n",
    "        'User-Agent': 'Chrome/73.0.3683.103',\n",
    "    }\n",
    ")"
   ]
  },
  {
   "cell_type": "code",
   "execution_count": 89,
   "metadata": {},
   "outputs": [],
   "source": [
    "sign_in_button = driver.find_element_by_xpath('/html/body/div[2]/div[1]/div/header/div[1]/div/ul/li[1]/a')\n",
    "sign_in_button.click()"
   ]
  },
  {
   "cell_type": "code",
   "execution_count": 90,
   "metadata": {},
   "outputs": [
    {
     "name": "stdout",
     "output_type": "stream",
     "text": [
      "The dotenv extension is already loaded. To reload it, use:\n",
      "  %reload_ext dotenv\n",
      "auroraborealis666@gmail.com\n"
     ]
    }
   ],
   "source": [
    "# See notes about environment variables\n",
    "%load_ext dotenv\n",
    "%dotenv\n",
    "import os\n",
    "EMAIL = os.environ.get('USERNAME')\n",
    "PASSWORD = os.environ.get('PASSWORD')\n",
    "\n",
    "# Show that this is working. Don't do this for PASSWORD!\n",
    "print(EMAIL)"
   ]
  },
  {
   "cell_type": "code",
   "execution_count": 91,
   "metadata": {},
   "outputs": [],
   "source": [
    "username_form = driver.find_element_by_id(\"user_email\")\n",
    "username_form.send_keys(EMAIL) "
   ]
  },
  {
   "cell_type": "code",
   "execution_count": 92,
   "metadata": {},
   "outputs": [],
   "source": [
    "username_form.send_keys(Keys.RETURN)"
   ]
  },
  {
   "cell_type": "code",
   "execution_count": 93,
   "metadata": {},
   "outputs": [],
   "source": [
    "password_form=driver.find_element_by_id(\"user_password\") # note another approach\n",
    "password_form.send_keys(PASSWORD) # enter password\n"
   ]
  },
  {
   "cell_type": "code",
   "execution_count": 94,
   "metadata": {},
   "outputs": [],
   "source": [
    "password_form.send_keys(Keys.RETURN)"
   ]
  },
  {
   "cell_type": "code",
   "execution_count": 96,
   "metadata": {},
   "outputs": [
    {
     "name": "stdout",
     "output_type": "stream",
     "text": [
      "Timed out waiting for page to load\n",
      "1191\n"
     ]
    }
   ],
   "source": [
    "# #Page 1\n",
    "# page_titles1 = []\n",
    "# url = driver.current_url\n",
    "# response = requests.get(url, headers=headers)\n",
    "# print(response.url)\n",
    "# page = response.text\n",
    "# #soupq = BeautifulSoup(page, \"lxml\")\n",
    "# soup = BeautifulSoup(page, 'html.parser')\n",
    "\n",
    "# for i in soup.find_all(\"a\", attrs={\"class\": \"bookTitle\"}):\n",
    "#     page_titles1.append(i.text)\n",
    "# page_titles1\n",
    "\n",
    "titles = []\n",
    "ratings = []\n",
    "number_ratings = []\n",
    "years_published = []\n",
    "\n",
    "running = True\n",
    "timeout = 5\n",
    "\n",
    "while running:\n",
    "    try:\n",
    "        element_present = EC.presence_of_element_located((By.LINK_TEXT, 'next »'))\n",
    "        WebDriverWait(driver, timeout).until(element_present)\n",
    "    except TimeoutException:\n",
    "        print(\"Timed out waiting for page to load\")\n",
    "        break\n",
    "\n",
    "    bookElements = driver.find_elements_by_css_selector(\".elementList > .left\")\n",
    "    for element in bookElements:\n",
    "        link = element.find_element_by_class_name(\"bookTitle\")\n",
    "        title = link.text\n",
    "        title = title.split(\"(\")[0].strip()\n",
    "        titles.append(title)\n",
    "        popularity = element.find_element_by_xpath(\"*[contains(text(), 'avg rating')]\").text\n",
    "        popularity = popularity.split(\"—\")\n",
    "\n",
    "        rating = popularity[0].strip()\n",
    "        rating = rating[len(\"avg rating \"):]\n",
    "        ratings.append(rating)\n",
    "\n",
    "        number_rating = popularity[1].strip()\n",
    "        number_rating = number_rating.split(\" \")[0]\n",
    "        number_ratings.append(number_rating)\n",
    "\n",
    "        year_published = popularity[2].strip()\n",
    "        parts = year_published.split(\" \")\n",
    "        if (len(parts) < 2):\n",
    "            years_published.append(float(\"NaN\"))\n",
    "        else:\n",
    "            year_published = year_published.split(\" \")[1]\n",
    "            years_published.append(year_published)\n",
    "    \n",
    "    try:\n",
    "        next_button = driver.find_element_by_link_text('next »')\n",
    "        next_button.click()\n",
    "    except NoSuchElementException as exception:\n",
    "        running = False\n",
    "\n",
    "print(len(titles))"
   ]
  },
  {
   "cell_type": "code",
   "execution_count": 97,
   "metadata": {},
   "outputs": [
    {
     "name": "stdout",
     "output_type": "stream",
     "text": [
      "1191\n"
     ]
    }
   ],
   "source": [
    "print(len(titles))\n"
   ]
  },
  {
   "cell_type": "code",
   "execution_count": 98,
   "metadata": {},
   "outputs": [
    {
     "name": "stdout",
     "output_type": "stream",
     "text": [
      "1191\n",
      "1191\n",
      "1191\n",
      "1191\n"
     ]
    }
   ],
   "source": [
    "print(len(titles))\n",
    "print(len(ratings))\n",
    "print(len(number_ratings))\n",
    "print(len(years_published))"
   ]
  },
  {
   "cell_type": "code",
   "execution_count": 103,
   "metadata": {},
   "outputs": [],
   "source": [
    "with open('title.pkl', 'wb') as f:\n",
    "    pickle.dump(titles, f)"
   ]
  },
  {
   "cell_type": "code",
   "execution_count": 104,
   "metadata": {},
   "outputs": [],
   "source": [
    "with open('rating.pkl', 'wb') as f:\n",
    "    pickle.dump(ratings, f)"
   ]
  },
  {
   "cell_type": "code",
   "execution_count": 105,
   "metadata": {},
   "outputs": [],
   "source": [
    "with open('number_rating.pkl', 'wb') as f:\n",
    "    pickle.dump(number_ratings, f)"
   ]
  },
  {
   "cell_type": "code",
   "execution_count": 106,
   "metadata": {},
   "outputs": [],
   "source": [
    "with open('year_published.pkl', 'wb') as f:\n",
    "    pickle.dump(years_published, f)"
   ]
  },
  {
   "cell_type": "code",
   "execution_count": 102,
   "metadata": {},
   "outputs": [
    {
     "name": "stdout",
     "output_type": "stream",
     "text": [
      "['5,680,570', '5,852,450', '2,169,268', '2,269,371', '4,390,455', '1,858,781', '2,071,765', '2,206,292', '2,317,552', '2,123,629', '2,181,093', '2,995,495', '2,570,107', '1,294,039', '1,823,431', '1,267,515', '1,092,691', '3,248,655', '2,543,905', '1,178,801', '3,879,494', '1,553,203', '2,054,458', '1,172,907', '2,503,637', '1,236,326', '703,742', '1,943,345', '1,436,083', '883,053', '1,424,948', '1,708,899', '646,856', '1,682,382', '1,864,964', '1,559,217', '1,184,390', '823,837', '598,843', '1,513,278', '400,307', '988,205', '1,333,367', '1,023,794', '2,361,091', '925,854', '2,261,012', '1,425,628', '476,089', '972,763', '569,761', '767,696', '1,239,940', '826,369', '1,468,731', '1,920,802', '499,928', '672,052', '499,312', '365,131', '2,141,201', '1,852,620', '96,019', '737,047', '859,703', '1,010,042', '635,410', '803,439', '954,129', '343,717', '293,150', '1,276,652', '1,037,336', '633,742', '155,832', '1,711,101', '1,125,546', '725,488', '408,919', '1,209,884', '1,053,210', '434,993', '562,676', '608,649', '797,191', '1,679,047', '408,863', '395,736', '576,825', '557,526', '784,906', '454,980', '438,790', '392,935', '139,390', '996,753', '869,982', '630,792', '838,963', '517,696', '632,810', '417,931', '1,159,513', '2,080,244', '308,452', '190,885', '591,858', '343,193', '222,186', '525,185', '517,590', '736,277', '418,796', '479,527', '32,047', '353,743', '265,097', '858,305', '2,550,196', '109,858', '500,580', '425,671', '470,666', '140,161', '344,314', '450,504', '419,635', '438,007', '294,621', '166,322', '556,543', '446,287', '164,191', '222,842', '650,415', '209,758', '319,109', '202,084', '118,170', '2,366,785', '218,681', '351,612', '271,777', '101,307', '205,017', '808,520', '672,265', '424,399', '327,432', '164,585', '306,004', '403,988', '643,725', '526,610', '393,137', '1,653,735', '192,649', '773,094', '145,069', '311,847', '170,352', '247,237', '101,482', '701,769', '306,994', '738,433', '75,571', '230,815', '246,463', '279,473', '186,819', '206,001', '620,163', '1,725,665', '1,390,269', '250,492', '88,834', '359,360', '579,506', '125,385', '342,351', '327,476', '196,612', '378,558', '609,830', '578,109', '77,369', '681,328', '411,107', '385,496', '774,690', '307,515', '30,120', '343,878', '190,586', '494,602', '562,911', '723,472', '71,511', '304,451', '561,205', '330,114', '460,190', '284,898', '2,316,989', '270,305', '81,448', '147,175', '79,132', '301,782', '218,627', '42,202', '269,534', '582,536', '354,990', '382,864', '105,469', '56,481', '140,356', '251,416', '645,595', '494,782', '203,188', '739,881', '275,226', '520,720', '646,745', '64,412', '38,425', '102,799', '123,746', '123,911', '55,182', '76,458', '381,538', '289,571', '585,919', '1,074,058', '358,919', '446,819', '96,678', '24,965', '235,938', '654,918', '256,649', '465,038', '127,498', '90,732', '120,073', '133,551', '165,774', '52,957', '60,511', '137,741', '180,139', '210,507', '582,812', '110,785', '198,859', '111,046', '290,313', '196,069', '365,137', '214,212', '621,774', '53,232', '47,461', '121,685', '674,444', '72,654', '41,368', '121,475', '216,412', '142,269', '74,568', '155,655', '108,490', '244,439', '357,034', '117,584', '289,849', '221,695', '170,896', '163,825', '72,345', '694,166', '166,106', '127,294', '519,530', '92,720', '113,800', '26,003', '19,412', '147,909', '36,645', '1,082,589', '33,877', '129,628', '307,958', '528,326', '409,594', '91,445', '36,477', '91,030', '539,395', '269,838', '351,150', '290,995', '34,436', '276,545', '418,372', '35,114', '36,072', '308,051', '701,268', '131,761', '24,376', '142,254', '26,029', '594,437', '25,018', '31,648', '227,490', '308,161', '19,120', '330,702', '15,984', '46,128', '65,280', '113,685', '26,767', '291,500', '31,652', '288,229', '156,042', '121,620', '71,119', '137,774', '196,834', '360,915', '191,465', '62,197', '266,151', '273,142', '152,871', '161,155', '270,353', '206,535', '358,729', '576,655', '451,019', '344,334', '297,520', '214,925', '230,813', '563,386', '137,641', '311,501', '151,536', '65,663', '75,739', '681,617', '34,128', '13,619', '284,101', '356,412', '162,753', '137,368', '402,906', '352,378', '111,444', '155,435', '64,769', '329,701', '160,478', '128,991', '155,765', '609,221', '35,707', '654,461', '105,656', '481,276', '94,575', '520,720', '201,309', '672,440', '97,722', '17,745', '253,386', '508,506', '549,992', '272,978', '57,989', '35,776', '74,600', '59,104', '1,246,786', '440,145', '40,403', '142,177', '124,888', '76,895', '161,965', '142,181', '121,924', '70,698', '101,410', '15,833', '295,656', '236,639', '36,498', '51,856', '221,063', '496,409', '36,444', '43,002', '31,300', '9,778', '95,829', '64,275', '30,051', '995,736', '318,921', '116,204', '108,766', '7,673', '89,726', '44,972', '46,708', '572,309', '179,854', '161,895', '7,110', '57,991', '45,423', '45,724', '71,480', '528,692', '13,954', '208,538', '212,303', '121,571', '594,025', '44,028', '99,041', '154,945', '87,898', '10,278', '73,296', '153,848', '55,338', '54,728', '159,663', '199,057', '212,869', '13,451', '124,111', '106,377', '98,999', '58,482', '97,484', '17,626', '76,796', '308,640', '650,215', '162,239', '136,895', '970,861', '504', '217,101', '375,332', '22,544', '339,837', '66,270', '229,495', '40,756', '10,937', '88,604', '144,300', '106,726', '55,534', '147,761', '28,092', '130,991', '84,050', '175,140', '327,405', '248,575', '89,673', '27,212', '41,562', '91,415', '17,091', '37,508', '237,569', '260,059', '151,668', '112,062', '192,910', '83,731', '154,655', '171,034', '168,559', '35,311', '89,138', '79,355', '115,376', '307,250', '114,846', '101,197', '46,894', '315,514', '174,239', '85,614', '83,514', '73,052', '7,566', '93,267', '36,445', '89,766', '10,009', '7,885', '131,855', '117,969', '131,415', '63,222', '88,348', '140,495', '22,664', '3,203', '890', '4,563', '6,010', '480,098', '3,884', '478,925', '6,931', '445,456', '273,739', '8,219', '49,073', '54,002', '208,718', '36,096', '29,717', '490,713', '95,116', '94,252', '7,387', '17,415', '76,108', '203,805', '176,674', '286,900', '342,404', '96,590', '3,894', '2,235', '12,352', '43,105', '100,652', '131,487', '142,372', '14,174', '63,980', '80,528', '162,402', '20,470', '84,595', '89,579', '24,462', '152,498', '226,825', '81,572', '23,143', '17,636', '1,904', '1,005,633', '12,116', '319,325', '54,091', '10,397', '12,834', '5,765', '15,586', '20,971', '74,131', '34,010', '243,258', '7,033', '178,336', '48,759', '285,844', '13,415', '47,856', '181,712', '276,645', '68,550', '78,595', '40,944', '27,604', '30,541', '27,204', '8,291', '15,151', '144,557', '144,013', '281,985', '10,689', '152,912', '149,843', '24,141', '239,452', '68,283', '209,924', '77,934', '234,184', '162,828', '175,737', '62,506', '205,272', '51,694', '10,801', '34,038', '31,473', '174,510', '70,935', '131,886', '53,918', '35,036', '56,393', '63,381', '58,116', '6,647', '25,538', '508,837', '30,003', '13,911', '117,567', '464,232', '361,309', '15,163', '17,667', '12,905', '59,938', '59,465', '26,817', '23,747', '280,173', '432,751', '36,628', '29,458', '38,308', '15,274', '1,826', '15,519', '2,301', '138,395', '6,510', '16,452', '115,446', '1,635', '14,209', '15,674', '7,800', '20,087', '350,511', '39,970', '212,109', '4,664', '31,288', '14,350', '389,215', '24,337', '659', '125,329', '47,450', '4,985', '10,687', '112,916', '10,070', '42,751', '6,252', '1,728,029', '10,694', '471,357', '695,873', '9,268', '38,919', '19,604', '99,952', '16,683', '114,753', '19,493', '359,398', '232,723', '47,779', '15,105', '65,197', '60,972', '13,704', '8,653', '1,749', '652,694', '79,807', '182,211', '101,474', '334,824', '131,873', '160,800', '109,772', '4,796', '44,801', '35,809', '58,448', '17,880', '6,248', '7,815', '185,216', '3,783', '47,151', '92,391', '3,295', '52,013', '21,881', '41,664', '149,775', '264,686', '1,993', '173,286', '125,883', '7,422', '8,794', '28,336', '114,174', '49,446', '90,574', '55,438', '2,406,752', '29,837', '1,635', '28,509', '12,058', '154,723', '39,650', '213,529', '130,601', '17,277', '31,644', '201,782', '81,440', '167,197', '138,176', '179,593', '145,302', '86,949', '27,048', '66,512', '17,280', '7,850', '54,888', '224,376', '37,486', '14,919', '90,584', '25,785', '86,439', '5,417', '10,390', '2,429', '81,332', '106,586', '12,855', '35,321', '558', '44,633', '90,009', '50,252', '26,743', '1,088', '2,273', '113,339', '96,404', '8,496', '161,755', '13,420', '31,242', '37,383', '62,046', '31,261', '16,163', '939', '8,128', '20,708', '2,902', '16,438', '55,106', '34,379', '160,376', '12,212', '650,129', '133,157', '248,894', '125,436', '495,544', '11,593', '3,795', '48,003', '315', '49,327', '7,683', '11,319', '6,743', '27,040', '12,868', '22,828', '173,316', '105,241', '18,528', '19,769', '192,703', '41,930', '12,106', '38,424', '102,661', '81,811', '24,539', '18,315', '83,973', '5,055', '9,526', '566,263', '86,382', '139,443', '5,568', '629', '2,964', '43,268', '26,850', '5,041', '4,853', '92,026', '12,227', '123,127', '12,480', '6,983', '1,638', '17,107', '15,283', '8,310', '83,224', '45,333', '96,016', '10,350', '31,679', '1,855', '111,019', '17,402', '24,396', '1,317', '8,156', '6,714', '5,561', '1,262', '6,066', '4,787', '41,249', '6,187', '25,175', '8,247', '3,964', '134,482', '25,905', '6,457', '986', '1,523', '434,133', '8,504', '135,778', '53,922', '179,344', '12,761', '26,813', '49,614', '3,470', '35,484', '77,823', '55,218', '29,127', '18,977', '36,885', '1,649', '3,129', '7,920', '76,692', '75,897', '112,012', '2,139', '2,921', '110,893', '18,591', '6,596', '6,136', '11,624', '367,190', '8,167', '40,487', '7,875', '112,009', '5,243', '40,189', '986', '40,584', '170,999', '26,311', '9,481', '367,595', '80', '641', '124,760', '7,718', '104,582', '663', '21,004', '26,033', '6,098', '923', '1,943', '9,261', '7,389', '38,847', '195,947', '50,474', '21,935', '29,372', '89,618', '24,328', '211,746', '359,436', '29,179', '3,383', '3,429', '85,907', '1,024', '154,285', '168,308', '14,920', '5,536', '40,072', '12,522', '11,178', '12,456', '42,088', '62,575', '21,200', '8,826', '47,081', '5,506', '209', '84,124', '6,357', '229,206', '205,738', '219,524', '15,327', '21,366', '155,814', '66,642', '109,808', '816', '51,944', '70,418', '49,372', '9,972', '72,766', '32,024', '10,567', '28,726', '36,869', '28,360', '37,553', '40,853', '117,895', '45,403', '24,495', '7,066', '30,196', '12,295', '45,226', '12,341', '3,396', '144,437', '112,150', '87,057', '53,166', '168,504', '5,453', '20,638', '64,567', '6,883', '90,804', '13,357', '26,533', '67,916', '212', '22,627', '101,379', '7,972', '33,132', '192,646', '18,334', '5,523', '38,210', '41,570', '7,107', '197,303', '15,334', '537,643', '583,068', '13,692', '45,394', '48,267', '44,351', '12,098', '59,770', '8,399', '15,634', '25,058', '20,569', '2,394', '257,341', '5,098', '45,100', '67,217', '65,357', '1,750', '787,188', '29,119', '177,104', '7,581', '27,009', '13,199', '56,079', '4,071', '115,878', '110,193', '252,401', '144,816', '16,895', '57,432', '54,320', '34,194', '14,628', '22,890', '63,038', '33,509', '28,932', '34,301', '51,382', '83,935', '77,920', '2,318', '579', '8,455', '74,998', '42,774', '5,341', '14,899', '26,255', '47,205', '84,117', '266,862', '42,032', '23,088', '295,952', '176,587', '75,100', '15,110', '162,466', '12,232', '134,178', '220,780', '169,436', '176,012', '84,198', '17,315', '109,692', '87,216', '54,109', '27,185', '34,018', '45,562', '1,023', '7,616', '1,540', '65,090', '10,728', '11', '20,890', '4,032', '13', '349,854', '64,324', '5,141', '346,921', '2,826', '20,841', '3,873', '4,397', '5,221', '5,385', '5,838', '6,948', '6,579', '7,883', '8,320', '9,229', '11,797', '10,463', '11,347', '15,509', '13,218', '3,237', '4,724', '31', '129', '1,580', '13,293', '5,030', '1,159', '2,687', '4,421', '904', '5,614', '573', '121', '2,099', '18,070', '16,134', '15,954', '2,738', '15,979', '47,431', '3,418', '7,525', '10,521', '28,216', '24,045', '61', '8,994', '19,490', '1,949', '14,918', '1,611', '9,179', '18,554', '913', '4,541', '32,678', '25,321', '21,085', '189,783', '22,025', '5,801', '34,894', '5,971', '4,744', '1,752', '1,491', '517', '96,070', '156,566', '2,069', '3,567', '2,892', '157', '2,278', '6,497', '528', '35', '1,760', '318', '11,505', '55,221', '162,357', '854', '461', '399', '54,784', '20,884', '688']\n"
     ]
    }
   ],
   "source": [
    "print(number_ratings)"
   ]
  },
  {
   "cell_type": "code",
   "execution_count": null,
   "metadata": {},
   "outputs": [],
   "source": []
  },
  {
   "cell_type": "code",
   "execution_count": null,
   "metadata": {},
   "outputs": [],
   "source": []
  },
  {
   "cell_type": "code",
   "execution_count": null,
   "metadata": {},
   "outputs": [],
   "source": []
  },
  {
   "cell_type": "code",
   "execution_count": null,
   "metadata": {},
   "outputs": [],
   "source": []
  },
  {
   "cell_type": "code",
   "execution_count": 62,
   "metadata": {},
   "outputs": [],
   "source": [
    "url_list = ['https://www.goodreads.com/book/show/2767052-the-hunger-games',\n",
    "            'https://www.goodreads.com/book/show/3.Harry_Potter_and_the_Sorcerer_s_Stone', \n",
    "            'https://www.goodreads.com/book/show/6.Harry_Potter_and_the_Goblet_of_Fire',\n",
    "            'https://www.goodreads.com/book/show/15881.Harry_Potter_and_the_Chamber_of_Secrets',\n",
    "           'https://www.goodreads.com/book/show/41865.Twilight',\n",
    "           'https://www.goodreads.com/book/show/4667024-the-help',\n",
    "           'https://www.goodreads.com/book/show/1.Harry_Potter_and_the_Half_Blood_Prince',\n",
    "            'https://www.goodreads.com/book/show/136251.Harry_Potter_and_the_Deathly_Hallows',\n",
    "            'https://www.goodreads.com/book/show/5.Harry_Potter_and_the_Prisoner_of_Azkaban',\n",
    "            'https://www.goodreads.com/book/show/2.Harry_Potter_and_the_Order_of_the_Phoenix',\n",
    "            'https://www.goodreads.com/book/show/6148028-catching-fire',\n",
    "            'https://www.goodreads.com/book/show/11870085-the-fault-in-our-stars',\n",
    "            'https://www.goodreads.com/book/show/13335037-divergent',\n",
    "            'https://www.goodreads.com/book/show/49041.New_Moon',\n",
    "            'https://www.goodreads.com/book/show/12232938-the-lovely-bones',\n",
    "            'https://www.goodreads.com/book/show/428263.Eclipse',\n",
    "            'https://www.goodreads.com/book/show/22628.The_Perks_of_Being_a_Wallflower',\n",
    "            'https://www.goodreads.com/book/show/4671.The_Great_Gatsby',\n",
    "            'https://www.goodreads.com/book/show/1885.Pride_and_Prejudice',\n",
    "            'https://www.goodreads.com/book/show/1162543.Breaking_Dawn',\n",
    "            'https://www.goodreads.com/book/show/2657.To_Kill_a_Mockingbird',\n",
    "            'https://www.goodreads.com/book/show/19063.The_Book_Thief',\n",
    "            'https://www.goodreads.com/book/show/7260188-mockingjay',\n",
    "            'https://www.goodreads.com/book/show/33648131-the-notebook',\n",
    "            'https://www.goodreads.com/book/show/5907.The_Hobbit_or_There_and_Back_Again'\n",
    "            \n",
    "           ]\n"
   ]
  },
  {
   "cell_type": "code",
   "execution_count": 63,
   "metadata": {},
   "outputs": [],
   "source": [
    "book_titles = []\n",
    "average_ratings = []"
   ]
  },
  {
   "cell_type": "code",
   "execution_count": 64,
   "metadata": {
    "scrolled": true
   },
   "outputs": [
    {
     "name": "stdout",
     "output_type": "stream",
     "text": [
      "['The Hunger Games', \"Harry Potter and the Sorcerer's Stone\", 'Harry Potter and the Goblet of Fire', 'Harry Potter and the Chamber of Secrets', 'Twilight', 'The Help', 'Harry Potter and the Half-Blood Prince', 'Harry Potter and the Deathly Hallows', 'Harry Potter and the Prisoner of Azkaban', 'Harry Potter and the Order of the Phoenix', 'Catching Fire', 'The Fault in Our Stars', 'Divergent', 'New Moon', 'The Lovely Bones', 'Eclipse', 'The Perks of Being a Wallflower', 'The Great Gatsby', 'Pride and Prejudice', 'Breaking Dawn', 'To Kill a Mockingbird', 'The Book Thief', 'Mockingjay', 'The Notebook', 'The Hobbit or There and Back Again']\n",
      "['4.33', '4.46', '4.55', '4.41', '3.58', '4.46', '4.56', '4.63', '4.55', '4.49', '4.29', '4.24', '4.21', '3.53', '3.79', '3.69', '4.20', '3.91', '4.25', '3.70', '4.27', '4.37', '4.03', '4.08', '4.26']\n"
     ]
    }
   ],
   "source": [
    "for url in url_list:\n",
    "    target_url = url\n",
    "    driver.get(target_url)\n",
    "\n",
    "#Getting info about a single book\n",
    "    title_selector = '//*[@id=\"bookTitle\"]'\n",
    "    title = driver.find_element_by_xpath(title_selector).text\n",
    "    book_titles.append(title)\n",
    "\n",
    "    average_rating_selector = '//*[@id=\"bookMeta\"]/span[2]'\n",
    "    average_rating = driver.find_element_by_xpath(average_rating_selector).text\n",
    "    average_ratings.append(average_rating)\n",
    "\n",
    "    \n",
    "print(book_titles)\n",
    "print(average_ratings)"
   ]
  },
  {
   "cell_type": "code",
   "execution_count": 66,
   "metadata": {},
   "outputs": [],
   "source": [
    "import pandas as pd"
   ]
  },
  {
   "cell_type": "code",
   "execution_count": 67,
   "metadata": {},
   "outputs": [],
   "source": [
    "book_data = pd.DataFrame(\n",
    "    {'book_title': book_titles,\n",
    "     'book_rating': average_ratings\n",
    "    })"
   ]
  },
  {
   "cell_type": "code",
   "execution_count": 69,
   "metadata": {},
   "outputs": [
    {
     "data": {
      "text/html": [
       "<div>\n",
       "<style scoped>\n",
       "    .dataframe tbody tr th:only-of-type {\n",
       "        vertical-align: middle;\n",
       "    }\n",
       "\n",
       "    .dataframe tbody tr th {\n",
       "        vertical-align: top;\n",
       "    }\n",
       "\n",
       "    .dataframe thead th {\n",
       "        text-align: right;\n",
       "    }\n",
       "</style>\n",
       "<table border=\"1\" class=\"dataframe\">\n",
       "  <thead>\n",
       "    <tr style=\"text-align: right;\">\n",
       "      <th></th>\n",
       "      <th>book_title</th>\n",
       "      <th>book_rating</th>\n",
       "    </tr>\n",
       "  </thead>\n",
       "  <tbody>\n",
       "    <tr>\n",
       "      <th>0</th>\n",
       "      <td>The Hunger Games</td>\n",
       "      <td>4.33</td>\n",
       "    </tr>\n",
       "    <tr>\n",
       "      <th>1</th>\n",
       "      <td>Harry Potter and the Sorcerer's Stone</td>\n",
       "      <td>4.46</td>\n",
       "    </tr>\n",
       "    <tr>\n",
       "      <th>2</th>\n",
       "      <td>Harry Potter and the Goblet of Fire</td>\n",
       "      <td>4.55</td>\n",
       "    </tr>\n",
       "  </tbody>\n",
       "</table>\n",
       "</div>"
      ],
      "text/plain": [
       "                              book_title book_rating\n",
       "0                       The Hunger Games        4.33\n",
       "1  Harry Potter and the Sorcerer's Stone        4.46\n",
       "2    Harry Potter and the Goblet of Fire        4.55"
      ]
     },
     "execution_count": 69,
     "metadata": {},
     "output_type": "execute_result"
    }
   ],
   "source": [
    "book_data.head(3)"
   ]
  },
  {
   "cell_type": "code",
   "execution_count": 70,
   "metadata": {},
   "outputs": [],
   "source": [
    "with open('book_title.pkl', 'wb') as f:\n",
    "    pickle.dump(book_titles, f)"
   ]
  },
  {
   "cell_type": "code",
   "execution_count": null,
   "metadata": {},
   "outputs": [],
   "source": []
  }
 ],
 "metadata": {
  "kernelspec": {
   "display_name": "Python 3",
   "language": "python",
   "name": "python3"
  },
  "language_info": {
   "codemirror_mode": {
    "name": "ipython",
    "version": 3
   },
   "file_extension": ".py",
   "mimetype": "text/x-python",
   "name": "python",
   "nbconvert_exporter": "python",
   "pygments_lexer": "ipython3",
   "version": "3.7.3"
  }
 },
 "nbformat": 4,
 "nbformat_minor": 2
}
