{
 "cells": [
  {
   "cell_type": "markdown",
   "metadata": {},
   "source": [
    "Examined Goodreads API to try and get the data needed. After further investigation realized that could only query by goodreads id. A good learning experience nonetheless."
   ]
  },
  {
   "cell_type": "markdown",
   "metadata": {},
   "source": [
    "pip install xmltodict"
   ]
  },
  {
   "cell_type": "markdown",
   "metadata": {},
   "source": [
    "pip install requests"
   ]
  },
  {
   "cell_type": "markdown",
   "metadata": {},
   "source": [
    "pip install rauth"
   ]
  },
  {
   "cell_type": "code",
   "execution_count": 88,
   "metadata": {},
   "outputs": [],
   "source": [
    "from goodreads import client\n",
    "import pickle\n",
    "import pandas as pd\n",
    "import time"
   ]
  },
  {
   "cell_type": "code",
   "execution_count": 89,
   "metadata": {},
   "outputs": [],
   "source": [
    "gc = client.GoodreadsClient('FGe9TTFeIxciFwtinwT7A', 'OVO1NGBn9TFwc8dC29yQMH8kZSCSs0G8MPrBqUAr18')"
   ]
  },
  {
   "cell_type": "code",
   "execution_count": 16,
   "metadata": {},
   "outputs": [],
   "source": [
    "with open('booklist.pkl', 'rb') as f:\n",
    "    unpickledbooklist = pickle.load(f)"
   ]
  },
  {
   "cell_type": "code",
   "execution_count": 83,
   "metadata": {},
   "outputs": [
    {
     "data": {
      "text/plain": [
       "William Matthews"
      ]
     },
     "execution_count": 83,
     "metadata": {},
     "output_type": "execute_result"
    }
   ],
   "source": [
    "title = gc.book(1)\n",
    "book.title\n",
    "author = gc.author(1000)\n",
    "author\n",
    "#book.average_rating"
   ]
  },
  {
   "cell_type": "code",
   "execution_count": 93,
   "metadata": {},
   "outputs": [
    {
     "name": "stdout",
     "output_type": "stream",
     "text": [
      "['Harry Potter and the Half-Blood Prince (Harry Potter, #6)', 'Harry Potter and the Order of the Phoenix (Harry Potter, #5)', \"Harry Potter and the Sorcerer's Stone (Harry Potter, #1)\", 'Harry Potter and the Chamber of Secrets (Harry Potter, #2)']\n",
      "['4.56', '4.49', '4.46', '4.41']\n",
      "['J.K. Rowling', 'J.K. Rowling', 'J.K. Rowling', 'J.K. Rowling']\n",
      "[]\n"
     ]
    }
   ],
   "source": [
    "titles=[]\n",
    "ratings = []\n",
    "authors = []\n",
    "works = []\n",
    "\n",
    "for i in range(1,5):\n",
    "    time.sleep(2)\n",
    "    book = gc.book(i)\n",
    "    title = book.title\n",
    "    titles.append(title)\n",
    "    rating = book.average_rating\n",
    "    ratings.append(rating)\n",
    "    all_authors = book.authors\n",
    "    author = all_authors[0].name\n",
    "    authors.append(author)\n",
    "    \n",
    "print(titles)\n",
    "print(ratings)\n",
    "print(authors)"
   ]
  },
  {
   "cell_type": "code",
   "execution_count": null,
   "metadata": {},
   "outputs": [],
   "source": [
    "authors = []\n",
    "works = []\n",
    "\n",
    "for i in range(10000, 100010):\n",
    "    author = gc.author(i)\n",
    "    authors.append(author)\n",
    "    work = author.works_count\n",
    "    works.append(work)\n",
    "    \n",
    "print(authors)\n",
    "print(works)"
   ]
  },
  {
   "cell_type": "code",
   "execution_count": 104,
   "metadata": {},
   "outputs": [],
   "source": [
    "book_data = pd.DataFrame(\n",
    "    {'book_title': titles,\n",
    "     'book_rating': ratings,\n",
    "     'book_author': authors\n",
    "    })"
   ]
  },
  {
   "cell_type": "code",
   "execution_count": 105,
   "metadata": {},
   "outputs": [
    {
     "data": {
      "text/html": [
       "<div>\n",
       "<style scoped>\n",
       "    .dataframe tbody tr th:only-of-type {\n",
       "        vertical-align: middle;\n",
       "    }\n",
       "\n",
       "    .dataframe tbody tr th {\n",
       "        vertical-align: top;\n",
       "    }\n",
       "\n",
       "    .dataframe thead th {\n",
       "        text-align: right;\n",
       "    }\n",
       "</style>\n",
       "<table border=\"1\" class=\"dataframe\">\n",
       "  <thead>\n",
       "    <tr style=\"text-align: right;\">\n",
       "      <th></th>\n",
       "      <th>book_title</th>\n",
       "      <th>book_rating</th>\n",
       "      <th>book_author</th>\n",
       "    </tr>\n",
       "  </thead>\n",
       "  <tbody>\n",
       "    <tr>\n",
       "      <th>0</th>\n",
       "      <td>Harry Potter and the Half-Blood Prince (Harry ...</td>\n",
       "      <td>4.56</td>\n",
       "      <td>J.K. Rowling</td>\n",
       "    </tr>\n",
       "    <tr>\n",
       "      <th>1</th>\n",
       "      <td>Harry Potter and the Order of the Phoenix (Har...</td>\n",
       "      <td>4.49</td>\n",
       "      <td>J.K. Rowling</td>\n",
       "    </tr>\n",
       "    <tr>\n",
       "      <th>2</th>\n",
       "      <td>Harry Potter and the Sorcerer's Stone (Harry P...</td>\n",
       "      <td>4.46</td>\n",
       "      <td>J.K. Rowling</td>\n",
       "    </tr>\n",
       "    <tr>\n",
       "      <th>3</th>\n",
       "      <td>Harry Potter and the Chamber of Secrets (Harry...</td>\n",
       "      <td>4.41</td>\n",
       "      <td>J.K. Rowling</td>\n",
       "    </tr>\n",
       "  </tbody>\n",
       "</table>\n",
       "</div>"
      ],
      "text/plain": [
       "                                          book_title book_rating   book_author\n",
       "0  Harry Potter and the Half-Blood Prince (Harry ...        4.56  J.K. Rowling\n",
       "1  Harry Potter and the Order of the Phoenix (Har...        4.49  J.K. Rowling\n",
       "2  Harry Potter and the Sorcerer's Stone (Harry P...        4.46  J.K. Rowling\n",
       "3  Harry Potter and the Chamber of Secrets (Harry...        4.41  J.K. Rowling"
      ]
     },
     "execution_count": 105,
     "metadata": {},
     "output_type": "execute_result"
    }
   ],
   "source": [
    "book_data"
   ]
  },
  {
   "cell_type": "code",
   "execution_count": null,
   "metadata": {},
   "outputs": [],
   "source": []
  }
 ],
 "metadata": {
  "kernelspec": {
   "display_name": "Python 3",
   "language": "python",
   "name": "python3"
  },
  "language_info": {
   "codemirror_mode": {
    "name": "ipython",
    "version": 3
   },
   "file_extension": ".py",
   "mimetype": "text/x-python",
   "name": "python",
   "nbconvert_exporter": "python",
   "pygments_lexer": "ipython3",
   "version": "3.7.3"
  }
 },
 "nbformat": 4,
 "nbformat_minor": 2
}
