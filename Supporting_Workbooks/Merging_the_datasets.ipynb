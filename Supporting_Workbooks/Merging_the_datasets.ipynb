{
 "cells": [
  {
   "cell_type": "code",
   "execution_count": 46,
   "metadata": {},
   "outputs": [],
   "source": [
    "import pandas as pd\n",
    "import numpy as np\n",
    "import statsmodels.api as sm\n",
    "import statsmodels.formula.api as smf\n",
    "import patsy\n",
    "#from fuzzywuzzy import fuzz\n",
    "import pickle\n",
    "\n",
    "import seaborn as sns\n",
    "import matplotlib.pyplot as plt\n",
    "from sklearn.linear_model import LinearRegression\n",
    "from sklearn.linear_model import RidgeCV\n",
    "%matplotlib inline"
   ]
  },
  {
   "cell_type": "raw",
   "metadata": {},
   "source": [
    "#Entertaines having to use FuzzyWuzzy to match names but the dataframes did a pretty good job for my purposes.\n",
    "\n",
    "def match_name(name, list_names, min_score=0):\n",
    "    # -1 score incase we don't get any matches\n",
    "    max_score = -1\n",
    "    # Returning empty name for no match as well\n",
    "    max_name = \"\"\n",
    "    # Iternating over all names in the other\n",
    "    for name2 in list_names:\n",
    "        #Finding fuzzy match score\n",
    "        score = fuzz.ratio(name, name2)\n",
    "        # Checking if we are above our threshold and have a better score\n",
    "        if (score > min_score) & (score > max_score):\n",
    "            max_name = name2\n",
    "            max_score = score\n",
    "    return (max_name, max_score)"
   ]
  },
  {
   "cell_type": "code",
   "execution_count": 47,
   "metadata": {},
   "outputs": [],
   "source": [
    "with open('title.pkl', 'rb') as f:\n",
    "    book_title = pickle.load(f)"
   ]
  },
  {
   "cell_type": "code",
   "execution_count": 48,
   "metadata": {},
   "outputs": [],
   "source": [
    "with open('rating.pkl', 'rb') as f:\n",
    "    book_rating = pickle.load(f)"
   ]
  },
  {
   "cell_type": "code",
   "execution_count": 49,
   "metadata": {},
   "outputs": [],
   "source": [
    "with open('number_rating.pkl', 'rb') as f:\n",
    "    book_number_rating = pickle.load(f)"
   ]
  },
  {
   "cell_type": "code",
   "execution_count": 50,
   "metadata": {},
   "outputs": [],
   "source": [
    "with open('year_published.pkl', 'rb') as f:\n",
    "    book_year_published = pickle.load(f)"
   ]
  },
  {
   "cell_type": "code",
   "execution_count": 51,
   "metadata": {},
   "outputs": [],
   "source": [
    "with open('movie_data.pkl', 'rb') as f:\n",
    "    movie_data = pickle.load(f)"
   ]
  },
  {
   "cell_type": "code",
   "execution_count": 52,
   "metadata": {},
   "outputs": [],
   "source": [
    "book_data = pd.DataFrame(\n",
    "    {'book_title': book_title,\n",
    "     'book_rating': book_rating,\n",
    "     'book_number_rating': book_number_rating,\n",
    "     'book_year_published': book_year_published\n",
    "    })"
   ]
  },
  {
   "cell_type": "code",
   "execution_count": 53,
   "metadata": {},
   "outputs": [],
   "source": [
    "with open('book_data.pkl', 'wb') as f:\n",
    "    pickle.dump(book_data, f)"
   ]
  },
  {
   "cell_type": "code",
   "execution_count": 54,
   "metadata": {
    "scrolled": true
   },
   "outputs": [
    {
     "data": {
      "text/plain": [
       "book_title             object\n",
       "book_rating            object\n",
       "book_number_rating     object\n",
       "book_year_published    object\n",
       "dtype: object"
      ]
     },
     "execution_count": 54,
     "metadata": {},
     "output_type": "execute_result"
    }
   ],
   "source": [
    "book_data.dtypes"
   ]
  },
  {
   "cell_type": "code",
   "execution_count": 55,
   "metadata": {},
   "outputs": [],
   "source": [
    "book_data[\"book_rating\"] = pd.to_numeric(book_data[\"book_rating\"])"
   ]
  },
  {
   "cell_type": "code",
   "execution_count": 56,
   "metadata": {},
   "outputs": [
    {
     "data": {
      "text/plain": [
       "book_title              object\n",
       "book_rating            float64\n",
       "book_number_rating      object\n",
       "book_year_published     object\n",
       "dtype: object"
      ]
     },
     "execution_count": 56,
     "metadata": {},
     "output_type": "execute_result"
    }
   ],
   "source": [
    "book_data.dtypes"
   ]
  },
  {
   "cell_type": "code",
   "execution_count": 57,
   "metadata": {},
   "outputs": [
    {
     "data": {
      "text/plain": [
       "adult                     object\n",
       "belongs_to_collection     object\n",
       "budget                     int64\n",
       "genres                    object\n",
       "homepage                  object\n",
       "id                        object\n",
       "imdb_id                   object\n",
       "original_language         object\n",
       "original_title            object\n",
       "overview                  object\n",
       "popularity                object\n",
       "poster_path               object\n",
       "production_companies      object\n",
       "production_countries      object\n",
       "release_date              object\n",
       "revenue                  float64\n",
       "runtime                  float64\n",
       "spoken_languages          object\n",
       "status                    object\n",
       "tagline                   object\n",
       "title                     object\n",
       "video                     object\n",
       "vote_average             float64\n",
       "vote_count               float64\n",
       "dtype: object"
      ]
     },
     "execution_count": 57,
     "metadata": {},
     "output_type": "execute_result"
    }
   ],
   "source": [
    "movie_data.dtypes"
   ]
  },
  {
   "cell_type": "code",
   "execution_count": 58,
   "metadata": {},
   "outputs": [],
   "source": [
    "book_movie = pd.merge(book_data, movie_data,  left_on='book_title', right_on = 'title')"
   ]
  },
  {
   "cell_type": "code",
   "execution_count": 59,
   "metadata": {},
   "outputs": [
    {
     "data": {
      "text/plain": [
       "(705, 28)"
      ]
     },
     "execution_count": 59,
     "metadata": {},
     "output_type": "execute_result"
    }
   ],
   "source": [
    "book_movie.shape"
   ]
  },
  {
   "cell_type": "code",
   "execution_count": 60,
   "metadata": {
    "scrolled": true
   },
   "outputs": [
    {
     "data": {
      "text/plain": [
       "book_title                object\n",
       "book_rating              float64\n",
       "book_number_rating        object\n",
       "book_year_published       object\n",
       "adult                     object\n",
       "belongs_to_collection     object\n",
       "budget                     int64\n",
       "genres                    object\n",
       "homepage                  object\n",
       "id                        object\n",
       "imdb_id                   object\n",
       "original_language         object\n",
       "original_title            object\n",
       "overview                  object\n",
       "popularity                object\n",
       "poster_path               object\n",
       "production_companies      object\n",
       "production_countries      object\n",
       "release_date              object\n",
       "revenue                  float64\n",
       "runtime                  float64\n",
       "spoken_languages          object\n",
       "status                    object\n",
       "tagline                   object\n",
       "title                     object\n",
       "video                     object\n",
       "vote_average             float64\n",
       "vote_count               float64\n",
       "dtype: object"
      ]
     },
     "execution_count": 60,
     "metadata": {},
     "output_type": "execute_result"
    }
   ],
   "source": [
    "book_movie.dtypes"
   ]
  },
  {
   "cell_type": "code",
   "execution_count": 61,
   "metadata": {},
   "outputs": [
    {
     "data": {
      "text/html": [
       "<div>\n",
       "<style scoped>\n",
       "    .dataframe tbody tr th:only-of-type {\n",
       "        vertical-align: middle;\n",
       "    }\n",
       "\n",
       "    .dataframe tbody tr th {\n",
       "        vertical-align: top;\n",
       "    }\n",
       "\n",
       "    .dataframe thead th {\n",
       "        text-align: right;\n",
       "    }\n",
       "</style>\n",
       "<table border=\"1\" class=\"dataframe\">\n",
       "  <thead>\n",
       "    <tr style=\"text-align: right;\">\n",
       "      <th></th>\n",
       "      <th>book_rating</th>\n",
       "      <th>budget</th>\n",
       "      <th>revenue</th>\n",
       "      <th>runtime</th>\n",
       "      <th>vote_average</th>\n",
       "      <th>vote_count</th>\n",
       "    </tr>\n",
       "  </thead>\n",
       "  <tbody>\n",
       "    <tr>\n",
       "      <th>book_rating</th>\n",
       "      <td>1.000000</td>\n",
       "      <td>0.119831</td>\n",
       "      <td>0.171653</td>\n",
       "      <td>-0.005385</td>\n",
       "      <td>0.206703</td>\n",
       "      <td>0.202751</td>\n",
       "    </tr>\n",
       "    <tr>\n",
       "      <th>budget</th>\n",
       "      <td>0.119831</td>\n",
       "      <td>1.000000</td>\n",
       "      <td>0.753144</td>\n",
       "      <td>0.121404</td>\n",
       "      <td>0.099657</td>\n",
       "      <td>0.603412</td>\n",
       "    </tr>\n",
       "    <tr>\n",
       "      <th>revenue</th>\n",
       "      <td>0.171653</td>\n",
       "      <td>0.753144</td>\n",
       "      <td>1.000000</td>\n",
       "      <td>0.113938</td>\n",
       "      <td>0.158091</td>\n",
       "      <td>0.747391</td>\n",
       "    </tr>\n",
       "    <tr>\n",
       "      <th>runtime</th>\n",
       "      <td>-0.005385</td>\n",
       "      <td>0.121404</td>\n",
       "      <td>0.113938</td>\n",
       "      <td>1.000000</td>\n",
       "      <td>0.001977</td>\n",
       "      <td>0.109464</td>\n",
       "    </tr>\n",
       "    <tr>\n",
       "      <th>vote_average</th>\n",
       "      <td>0.206703</td>\n",
       "      <td>0.099657</td>\n",
       "      <td>0.158091</td>\n",
       "      <td>0.001977</td>\n",
       "      <td>1.000000</td>\n",
       "      <td>0.272046</td>\n",
       "    </tr>\n",
       "    <tr>\n",
       "      <th>vote_count</th>\n",
       "      <td>0.202751</td>\n",
       "      <td>0.603412</td>\n",
       "      <td>0.747391</td>\n",
       "      <td>0.109464</td>\n",
       "      <td>0.272046</td>\n",
       "      <td>1.000000</td>\n",
       "    </tr>\n",
       "  </tbody>\n",
       "</table>\n",
       "</div>"
      ],
      "text/plain": [
       "              book_rating    budget   revenue   runtime  vote_average  \\\n",
       "book_rating      1.000000  0.119831  0.171653 -0.005385      0.206703   \n",
       "budget           0.119831  1.000000  0.753144  0.121404      0.099657   \n",
       "revenue          0.171653  0.753144  1.000000  0.113938      0.158091   \n",
       "runtime         -0.005385  0.121404  0.113938  1.000000      0.001977   \n",
       "vote_average     0.206703  0.099657  0.158091  0.001977      1.000000   \n",
       "vote_count       0.202751  0.603412  0.747391  0.109464      0.272046   \n",
       "\n",
       "              vote_count  \n",
       "book_rating     0.202751  \n",
       "budget          0.603412  \n",
       "revenue         0.747391  \n",
       "runtime         0.109464  \n",
       "vote_average    0.272046  \n",
       "vote_count      1.000000  "
      ]
     },
     "execution_count": 61,
     "metadata": {},
     "output_type": "execute_result"
    }
   ],
   "source": [
    "book_movie.corr()"
   ]
  },
  {
   "cell_type": "code",
   "execution_count": 63,
   "metadata": {},
   "outputs": [
    {
     "data": {
      "text/html": [
       "<div>\n",
       "<style scoped>\n",
       "    .dataframe tbody tr th:only-of-type {\n",
       "        vertical-align: middle;\n",
       "    }\n",
       "\n",
       "    .dataframe tbody tr th {\n",
       "        vertical-align: top;\n",
       "    }\n",
       "\n",
       "    .dataframe thead th {\n",
       "        text-align: right;\n",
       "    }\n",
       "</style>\n",
       "<table border=\"1\" class=\"dataframe\">\n",
       "  <thead>\n",
       "    <tr style=\"text-align: right;\">\n",
       "      <th></th>\n",
       "      <th>book_title</th>\n",
       "      <th>book_rating</th>\n",
       "      <th>book_number_rating</th>\n",
       "      <th>book_year_published</th>\n",
       "      <th>adult</th>\n",
       "      <th>belongs_to_collection</th>\n",
       "      <th>budget</th>\n",
       "      <th>genres</th>\n",
       "      <th>homepage</th>\n",
       "      <th>id</th>\n",
       "      <th>...</th>\n",
       "      <th>release_date</th>\n",
       "      <th>revenue</th>\n",
       "      <th>runtime</th>\n",
       "      <th>spoken_languages</th>\n",
       "      <th>status</th>\n",
       "      <th>tagline</th>\n",
       "      <th>title</th>\n",
       "      <th>video</th>\n",
       "      <th>vote_average</th>\n",
       "      <th>vote_count</th>\n",
       "    </tr>\n",
       "  </thead>\n",
       "  <tbody>\n",
       "    <tr>\n",
       "      <th>247</th>\n",
       "      <td>The Client</td>\n",
       "      <td>3.99</td>\n",
       "      <td>357,034</td>\n",
       "      <td>1993</td>\n",
       "      <td>False</td>\n",
       "      <td>NaN</td>\n",
       "      <td>45000000</td>\n",
       "      <td>[{'id': 18, 'name': 'Drama'}, {'id': 53, 'name...</td>\n",
       "      <td>NaN</td>\n",
       "      <td>10731</td>\n",
       "      <td>...</td>\n",
       "      <td>1994-07-20</td>\n",
       "      <td>117615211.0</td>\n",
       "      <td>119.0</td>\n",
       "      <td>[{'iso_639_1': 'en', 'name': 'English'}]</td>\n",
       "      <td>Released</td>\n",
       "      <td>A district attorney out for a conviction. A ne...</td>\n",
       "      <td>The Client</td>\n",
       "      <td>False</td>\n",
       "      <td>6.4</td>\n",
       "      <td>287.0</td>\n",
       "    </tr>\n",
       "    <tr>\n",
       "      <th>504</th>\n",
       "      <td>Addicted</td>\n",
       "      <td>4.26</td>\n",
       "      <td>16,452</td>\n",
       "      <td>1998</td>\n",
       "      <td>False</td>\n",
       "      <td>NaN</td>\n",
       "      <td>0</td>\n",
       "      <td>[{'id': 18, 'name': 'Drama'}, {'id': 53, 'name...</td>\n",
       "      <td>NaN</td>\n",
       "      <td>235271</td>\n",
       "      <td>...</td>\n",
       "      <td>2014-10-10</td>\n",
       "      <td>0.0</td>\n",
       "      <td>105.0</td>\n",
       "      <td>[{'iso_639_1': 'en', 'name': 'English'}]</td>\n",
       "      <td>Released</td>\n",
       "      <td>Every Woman Needs an Escape</td>\n",
       "      <td>Addicted</td>\n",
       "      <td>False</td>\n",
       "      <td>5.4</td>\n",
       "      <td>63.0</td>\n",
       "    </tr>\n",
       "    <tr>\n",
       "      <th>693</th>\n",
       "      <td>Three Men in a Boat</td>\n",
       "      <td>3.89</td>\n",
       "      <td>47,431</td>\n",
       "      <td>1889</td>\n",
       "      <td>False</td>\n",
       "      <td>NaN</td>\n",
       "      <td>0</td>\n",
       "      <td>[{'id': 35, 'name': 'Comedy'}]</td>\n",
       "      <td>NaN</td>\n",
       "      <td>252746</td>\n",
       "      <td>...</td>\n",
       "      <td>1956-12-23</td>\n",
       "      <td>0.0</td>\n",
       "      <td>84.0</td>\n",
       "      <td>[{'iso_639_1': 'en', 'name': 'English'}]</td>\n",
       "      <td>Released</td>\n",
       "      <td>NaN</td>\n",
       "      <td>Three Men in a Boat</td>\n",
       "      <td>False</td>\n",
       "      <td>6.5</td>\n",
       "      <td>2.0</td>\n",
       "    </tr>\n",
       "    <tr>\n",
       "      <th>390</th>\n",
       "      <td>I Am Legend</td>\n",
       "      <td>4.06</td>\n",
       "      <td>76,796</td>\n",
       "      <td>1954</td>\n",
       "      <td>False</td>\n",
       "      <td>NaN</td>\n",
       "      <td>150000000</td>\n",
       "      <td>[{'id': 18, 'name': 'Drama'}, {'id': 27, 'name...</td>\n",
       "      <td>http://iamlegend.warnerbros.com/</td>\n",
       "      <td>6479</td>\n",
       "      <td>...</td>\n",
       "      <td>2007-12-14</td>\n",
       "      <td>585349010.0</td>\n",
       "      <td>101.0</td>\n",
       "      <td>[{'iso_639_1': 'en', 'name': 'English'}]</td>\n",
       "      <td>Released</td>\n",
       "      <td>The last man on Earth is not alone</td>\n",
       "      <td>I Am Legend</td>\n",
       "      <td>False</td>\n",
       "      <td>6.9</td>\n",
       "      <td>4977.0</td>\n",
       "    </tr>\n",
       "    <tr>\n",
       "      <th>505</th>\n",
       "      <td>The Dinner</td>\n",
       "      <td>3.21</td>\n",
       "      <td>115,446</td>\n",
       "      <td>2009</td>\n",
       "      <td>False</td>\n",
       "      <td>NaN</td>\n",
       "      <td>0</td>\n",
       "      <td>[{'id': 18, 'name': 'Drama'}, {'id': 53, 'name...</td>\n",
       "      <td>NaN</td>\n",
       "      <td>401546</td>\n",
       "      <td>...</td>\n",
       "      <td>2017-05-05</td>\n",
       "      <td>1323312.0</td>\n",
       "      <td>120.0</td>\n",
       "      <td>[{'iso_639_1': 'en', 'name': 'English'}]</td>\n",
       "      <td>Released</td>\n",
       "      <td>How far would you go to protect your children?</td>\n",
       "      <td>The Dinner</td>\n",
       "      <td>False</td>\n",
       "      <td>4.1</td>\n",
       "      <td>44.0</td>\n",
       "    </tr>\n",
       "  </tbody>\n",
       "</table>\n",
       "<p>5 rows × 28 columns</p>\n",
       "</div>"
      ],
      "text/plain": [
       "              book_title  book_rating book_number_rating book_year_published  \\\n",
       "247           The Client         3.99            357,034                1993   \n",
       "504             Addicted         4.26             16,452                1998   \n",
       "693  Three Men in a Boat         3.89             47,431                1889   \n",
       "390          I Am Legend         4.06             76,796                1954   \n",
       "505           The Dinner         3.21            115,446                2009   \n",
       "\n",
       "     adult belongs_to_collection     budget  \\\n",
       "247  False                   NaN   45000000   \n",
       "504  False                   NaN          0   \n",
       "693  False                   NaN          0   \n",
       "390  False                   NaN  150000000   \n",
       "505  False                   NaN          0   \n",
       "\n",
       "                                                genres  \\\n",
       "247  [{'id': 18, 'name': 'Drama'}, {'id': 53, 'name...   \n",
       "504  [{'id': 18, 'name': 'Drama'}, {'id': 53, 'name...   \n",
       "693                     [{'id': 35, 'name': 'Comedy'}]   \n",
       "390  [{'id': 18, 'name': 'Drama'}, {'id': 27, 'name...   \n",
       "505  [{'id': 18, 'name': 'Drama'}, {'id': 53, 'name...   \n",
       "\n",
       "                             homepage      id  ... release_date      revenue  \\\n",
       "247                               NaN   10731  ...   1994-07-20  117615211.0   \n",
       "504                               NaN  235271  ...   2014-10-10          0.0   \n",
       "693                               NaN  252746  ...   1956-12-23          0.0   \n",
       "390  http://iamlegend.warnerbros.com/    6479  ...   2007-12-14  585349010.0   \n",
       "505                               NaN  401546  ...   2017-05-05    1323312.0   \n",
       "\n",
       "    runtime                          spoken_languages    status  \\\n",
       "247   119.0  [{'iso_639_1': 'en', 'name': 'English'}]  Released   \n",
       "504   105.0  [{'iso_639_1': 'en', 'name': 'English'}]  Released   \n",
       "693    84.0  [{'iso_639_1': 'en', 'name': 'English'}]  Released   \n",
       "390   101.0  [{'iso_639_1': 'en', 'name': 'English'}]  Released   \n",
       "505   120.0  [{'iso_639_1': 'en', 'name': 'English'}]  Released   \n",
       "\n",
       "                                               tagline                title  \\\n",
       "247  A district attorney out for a conviction. A ne...           The Client   \n",
       "504                        Every Woman Needs an Escape             Addicted   \n",
       "693                                                NaN  Three Men in a Boat   \n",
       "390                 The last man on Earth is not alone          I Am Legend   \n",
       "505     How far would you go to protect your children?           The Dinner   \n",
       "\n",
       "     video vote_average  vote_count  \n",
       "247  False          6.4       287.0  \n",
       "504  False          5.4        63.0  \n",
       "693  False          6.5         2.0  \n",
       "390  False          6.9      4977.0  \n",
       "505  False          4.1        44.0  \n",
       "\n",
       "[5 rows x 28 columns]"
      ]
     },
     "execution_count": 63,
     "metadata": {},
     "output_type": "execute_result"
    }
   ],
   "source": [
    "book_movie.sample(5)"
   ]
  },
  {
   "cell_type": "code",
   "execution_count": 66,
   "metadata": {},
   "outputs": [
    {
     "data": {
      "text/html": [
       "<div>\n",
       "<style scoped>\n",
       "    .dataframe tbody tr th:only-of-type {\n",
       "        vertical-align: middle;\n",
       "    }\n",
       "\n",
       "    .dataframe tbody tr th {\n",
       "        vertical-align: top;\n",
       "    }\n",
       "\n",
       "    .dataframe thead th {\n",
       "        text-align: right;\n",
       "    }\n",
       "</style>\n",
       "<table border=\"1\" class=\"dataframe\">\n",
       "  <thead>\n",
       "    <tr style=\"text-align: right;\">\n",
       "      <th></th>\n",
       "      <th>book_rating</th>\n",
       "      <th>budget</th>\n",
       "      <th>revenue</th>\n",
       "      <th>runtime</th>\n",
       "      <th>vote_average</th>\n",
       "      <th>vote_count</th>\n",
       "    </tr>\n",
       "  </thead>\n",
       "  <tbody>\n",
       "    <tr>\n",
       "      <th>book_rating</th>\n",
       "      <td>1.000000</td>\n",
       "      <td>0.119831</td>\n",
       "      <td>0.171653</td>\n",
       "      <td>-0.005385</td>\n",
       "      <td>0.206703</td>\n",
       "      <td>0.202751</td>\n",
       "    </tr>\n",
       "    <tr>\n",
       "      <th>budget</th>\n",
       "      <td>0.119831</td>\n",
       "      <td>1.000000</td>\n",
       "      <td>0.753144</td>\n",
       "      <td>0.121404</td>\n",
       "      <td>0.099657</td>\n",
       "      <td>0.603412</td>\n",
       "    </tr>\n",
       "    <tr>\n",
       "      <th>revenue</th>\n",
       "      <td>0.171653</td>\n",
       "      <td>0.753144</td>\n",
       "      <td>1.000000</td>\n",
       "      <td>0.113938</td>\n",
       "      <td>0.158091</td>\n",
       "      <td>0.747391</td>\n",
       "    </tr>\n",
       "    <tr>\n",
       "      <th>runtime</th>\n",
       "      <td>-0.005385</td>\n",
       "      <td>0.121404</td>\n",
       "      <td>0.113938</td>\n",
       "      <td>1.000000</td>\n",
       "      <td>0.001977</td>\n",
       "      <td>0.109464</td>\n",
       "    </tr>\n",
       "    <tr>\n",
       "      <th>vote_average</th>\n",
       "      <td>0.206703</td>\n",
       "      <td>0.099657</td>\n",
       "      <td>0.158091</td>\n",
       "      <td>0.001977</td>\n",
       "      <td>1.000000</td>\n",
       "      <td>0.272046</td>\n",
       "    </tr>\n",
       "    <tr>\n",
       "      <th>vote_count</th>\n",
       "      <td>0.202751</td>\n",
       "      <td>0.603412</td>\n",
       "      <td>0.747391</td>\n",
       "      <td>0.109464</td>\n",
       "      <td>0.272046</td>\n",
       "      <td>1.000000</td>\n",
       "    </tr>\n",
       "  </tbody>\n",
       "</table>\n",
       "</div>"
      ],
      "text/plain": [
       "              book_rating    budget   revenue   runtime  vote_average  \\\n",
       "book_rating      1.000000  0.119831  0.171653 -0.005385      0.206703   \n",
       "budget           0.119831  1.000000  0.753144  0.121404      0.099657   \n",
       "revenue          0.171653  0.753144  1.000000  0.113938      0.158091   \n",
       "runtime         -0.005385  0.121404  0.113938  1.000000      0.001977   \n",
       "vote_average     0.206703  0.099657  0.158091  0.001977      1.000000   \n",
       "vote_count       0.202751  0.603412  0.747391  0.109464      0.272046   \n",
       "\n",
       "              vote_count  \n",
       "book_rating     0.202751  \n",
       "budget          0.603412  \n",
       "revenue         0.747391  \n",
       "runtime         0.109464  \n",
       "vote_average    0.272046  \n",
       "vote_count      1.000000  "
      ]
     },
     "execution_count": 66,
     "metadata": {},
     "output_type": "execute_result"
    }
   ],
   "source": [
    "book_movie.corr()"
   ]
  },
  {
   "cell_type": "code",
   "execution_count": 67,
   "metadata": {},
   "outputs": [],
   "source": [
    "with open('book_movie_data.pkl', 'wb') as f:\n",
    "    pickle.dump(book_movie, f)"
   ]
  }
 ],
 "metadata": {
  "kernelspec": {
   "display_name": "Python 3",
   "language": "python",
   "name": "python3"
  },
  "language_info": {
   "codemirror_mode": {
    "name": "ipython",
    "version": 3
   },
   "file_extension": ".py",
   "mimetype": "text/x-python",
   "name": "python",
   "nbconvert_exporter": "python",
   "pygments_lexer": "ipython3",
   "version": "3.7.3"
  }
 },
 "nbformat": 4,
 "nbformat_minor": 2
}
