{
 "cells": [
  {
   "cell_type": "code",
   "execution_count": 110,
   "metadata": {},
   "outputs": [],
   "source": [
    "import sys\n",
    "import requests\n",
    "from bs4 import BeautifulSoup\n",
    "\n",
    "user_agent = {'User-agent': 'Mozilla/5.0'}\n",
    "response  = requests.get(url, headers = user_agent)"
   ]
  },
  {
   "cell_type": "code",
   "execution_count": 111,
   "metadata": {},
   "outputs": [],
   "source": [
    "from selenium import webdriver\n",
    "from selenium.webdriver.common.keys import Keys\n",
    "import time\n",
    "\n",
    "import os\n",
    "chromedriver = \"/Applications/chromedriver\" # path to the chromedriver executable\n",
    "os.environ[\"webdriver.chrome.driver\"] = chromedriver\n",
    "from bs4 import BeautifulSoup\n",
    "import time\n",
    "import pickle"
   ]
  },
  {
   "cell_type": "code",
   "execution_count": 112,
   "metadata": {},
   "outputs": [],
   "source": [
    "driver = webdriver.Chrome(chromedriver)\n",
    "url = \"https://www.goodreads.com/shelf/show/books-made-into-movies?page=1\"\n",
    "driver.get(url)\n",
    "headers = requests.utils.default_headers()\n",
    "headers.update(\n",
    "    {\n",
    "        'User-Agent': 'Chrome/73.0.3683.103',\n",
    "    }\n",
    ")\n"
   ]
  },
  {
   "cell_type": "code",
   "execution_count": 113,
   "metadata": {},
   "outputs": [],
   "source": [
    "sign_in_button = driver.find_element_by_xpath('/html/body/div[2]/div[1]/div/header/div[1]/div/ul/li[1]/a')\n",
    "sign_in_button.click()"
   ]
  },
  {
   "cell_type": "code",
   "execution_count": 114,
   "metadata": {},
   "outputs": [
    {
     "name": "stdout",
     "output_type": "stream",
     "text": [
      "The dotenv extension is already loaded. To reload it, use:\n",
      "  %reload_ext dotenv\n",
      "auroraborealis666@gmail.com\n"
     ]
    }
   ],
   "source": [
    "# See notes about environment variables\n",
    "%load_ext dotenv\n",
    "%dotenv\n",
    "import os\n",
    "EMAIL = os.environ.get('USERNAME')\n",
    "PASSWORD = os.environ.get('PASSWORD')\n",
    "\n",
    "# Show that this is working. Don't do this for PASSWORD!\n",
    "print(EMAIL)"
   ]
  },
  {
   "cell_type": "code",
   "execution_count": 115,
   "metadata": {},
   "outputs": [],
   "source": [
    "username_form = driver.find_element_by_id(\"user_email\")\n",
    "username_form.send_keys(EMAIL) "
   ]
  },
  {
   "cell_type": "code",
   "execution_count": 116,
   "metadata": {},
   "outputs": [],
   "source": [
    "username_form.send_keys(Keys.RETURN)"
   ]
  },
  {
   "cell_type": "code",
   "execution_count": 117,
   "metadata": {},
   "outputs": [],
   "source": [
    "password_form=driver.find_element_by_id(\"user_password\") # note another approach\n",
    "password_form.send_keys(PASSWORD) # enter password\n"
   ]
  },
  {
   "cell_type": "code",
   "execution_count": 118,
   "metadata": {},
   "outputs": [],
   "source": [
    "password_form.send_keys(Keys.RETURN)"
   ]
  },
  {
   "cell_type": "code",
   "execution_count": 119,
   "metadata": {},
   "outputs": [
    {
     "name": "stdout",
     "output_type": "stream",
     "text": [
      "https://www.goodreads.com/shelf/show/books-made-into-movies?page=1\n"
     ]
    },
    {
     "data": {
      "text/plain": [
       "['The Hunger Games (The Hunger Games, #1)',\n",
       " \"Harry Potter and the Sorcerer's Stone (Harry Potter, #1)\",\n",
       " 'Harry Potter and the Goblet of Fire (Harry Potter, #4)',\n",
       " 'Harry Potter and the Chamber of Secrets (Harry Potter, #2)',\n",
       " 'Twilight (Twilight, #1)',\n",
       " 'The Help (Hardcover)',\n",
       " 'Harry Potter and the Half-Blood Prince (Harry Potter, #6)',\n",
       " 'Harry Potter and the Deathly Hallows (Harry Potter, #7)',\n",
       " 'Harry Potter and the Prisoner of Azkaban (Harry Potter, #3)',\n",
       " 'Harry Potter and the Order of the Phoenix (Harry Potter, #5)',\n",
       " 'Catching Fire (The Hunger Games, #2)',\n",
       " 'The Fault in Our Stars (Hardcover)',\n",
       " 'Divergent (Divergent, #1)',\n",
       " 'New Moon (Twilight, #2)',\n",
       " 'The Lovely Bones (Mass Market Paperback)',\n",
       " 'Eclipse (Twilight, #3)',\n",
       " 'The Perks of Being a Wallflower (Paperback)',\n",
       " 'The Great Gatsby (Paperback)',\n",
       " 'Pride and Prejudice (Paperback)',\n",
       " 'Breaking Dawn (Twilight, #4)',\n",
       " 'To Kill a Mockingbird (Paperback)',\n",
       " 'The Book Thief (Hardcover)',\n",
       " 'Mockingjay (The Hunger Games, #3)',\n",
       " 'The Notebook (Kindle Edition)',\n",
       " 'The Hobbit or There and Back Again (Paperback)',\n",
       " 'Water for Elephants (Paperback)',\n",
       " 'The Princess Bride (Paperback)',\n",
       " 'Gone Girl (Paperback)',\n",
       " \"The Time Traveler's Wife (ebook)\",\n",
       " 'The Maze Runner (The Maze Runner, #1)',\n",
       " 'City of Bones (The Mortal Instruments, #1)',\n",
       " 'The Da Vinci Code (Robert Langdon, #2)',\n",
       " 'If I Stay (If I Stay, #1)',\n",
       " 'The Lightning Thief (Percy Jackson and the Olympians, #1)',\n",
       " 'The Lion, the Witch and the Wardrobe (Chronicles of Narnia, #1)',\n",
       " 'Memoirs of a Geisha (Mass Market Paperback)',\n",
       " 'Life of Pi (Paperback)',\n",
       " 'The Host (The Host, #1)',\n",
       " 'A Walk to Remember (Kindle Edition)',\n",
       " 'The Giver (Paperback)',\n",
       " 'Atonement (Paperback)',\n",
       " 'Gone with the Wind (Paperback)',\n",
       " 'Eat, Pray, Love (Paperback)',\n",
       " 'The Secret Life of Bees (Paperback)',\n",
       " 'Angels & Demons (Robert Langdon, #1)',\n",
       " 'Me Before You (Me Before You, #1)',\n",
       " 'The Girl with the Dragon Tattoo (Millennium, #1)',\n",
       " 'Jane Eyre (Paperback)',\n",
       " 'The Last Song (Hardcover)',\n",
       " \"My Sister's Keeper (Paperback)\"]"
      ]
     },
     "execution_count": 119,
     "metadata": {},
     "output_type": "execute_result"
    }
   ],
   "source": [
    "#Page 1\n",
    "page_titles1 = []\n",
    "url = driver.current_url\n",
    "response = requests.get(url, headers=headers)\n",
    "print(response.url)\n",
    "page = response.text\n",
    "#soupq = BeautifulSoup(page, \"lxml\")\n",
    "soup = BeautifulSoup(page, 'html.parser')\n",
    "\n",
    "for i in soup.find_all(\"a\", attrs={\"class\": \"bookTitle\"}):\n",
    "    page_titles1.append(i.text)\n",
    "page_titles1"
   ]
  },
  {
   "cell_type": "code",
   "execution_count": 120,
   "metadata": {},
   "outputs": [],
   "source": [
    "next_button = driver.find_element_by_xpath('/html/body/div[2]/div[3]/div[1]/div[2]/div[3]/div[104]/div/a[11]')\n",
    "next_button.click()\n"
   ]
  },
  {
   "cell_type": "code",
   "execution_count": 122,
   "metadata": {},
   "outputs": [
    {
     "name": "stdout",
     "output_type": "stream",
     "text": [
      "https://www.goodreads.com/shelf/show/books-made-into-movies?page=2\n",
      "https://www.goodreads.com/shelf/show/books-made-into-movies?page=2\n"
     ]
    },
    {
     "data": {
      "text/plain": [
       "['The Hunger Games (The Hunger Games, #1)',\n",
       " \"Harry Potter and the Sorcerer's Stone (Harry Potter, #1)\",\n",
       " 'Harry Potter and the Goblet of Fire (Harry Potter, #4)',\n",
       " 'Harry Potter and the Chamber of Secrets (Harry Potter, #2)',\n",
       " 'Twilight (Twilight, #1)',\n",
       " 'The Help (Hardcover)',\n",
       " 'Harry Potter and the Half-Blood Prince (Harry Potter, #6)',\n",
       " 'Harry Potter and the Deathly Hallows (Harry Potter, #7)',\n",
       " 'Harry Potter and the Prisoner of Azkaban (Harry Potter, #3)',\n",
       " 'Harry Potter and the Order of the Phoenix (Harry Potter, #5)',\n",
       " 'Catching Fire (The Hunger Games, #2)',\n",
       " 'The Fault in Our Stars (Hardcover)',\n",
       " 'Divergent (Divergent, #1)',\n",
       " 'New Moon (Twilight, #2)',\n",
       " 'The Lovely Bones (Mass Market Paperback)',\n",
       " 'Eclipse (Twilight, #3)',\n",
       " 'The Perks of Being a Wallflower (Paperback)',\n",
       " 'The Great Gatsby (Paperback)',\n",
       " 'Pride and Prejudice (Paperback)',\n",
       " 'Breaking Dawn (Twilight, #4)',\n",
       " 'To Kill a Mockingbird (Paperback)',\n",
       " 'The Book Thief (Hardcover)',\n",
       " 'Mockingjay (The Hunger Games, #3)',\n",
       " 'The Notebook (Kindle Edition)',\n",
       " 'The Hobbit or There and Back Again (Paperback)',\n",
       " 'Water for Elephants (Paperback)',\n",
       " 'The Princess Bride (Paperback)',\n",
       " 'Gone Girl (Paperback)',\n",
       " \"The Time Traveler's Wife (ebook)\",\n",
       " 'The Maze Runner (The Maze Runner, #1)',\n",
       " 'City of Bones (The Mortal Instruments, #1)',\n",
       " 'The Da Vinci Code (Robert Langdon, #2)',\n",
       " 'If I Stay (If I Stay, #1)',\n",
       " 'The Lightning Thief (Percy Jackson and the Olympians, #1)',\n",
       " 'The Lion, the Witch and the Wardrobe (Chronicles of Narnia, #1)',\n",
       " 'Memoirs of a Geisha (Mass Market Paperback)',\n",
       " 'Life of Pi (Paperback)',\n",
       " 'The Host (The Host, #1)',\n",
       " 'A Walk to Remember (Kindle Edition)',\n",
       " 'The Giver (Paperback)',\n",
       " 'Atonement (Paperback)',\n",
       " 'Gone with the Wind (Paperback)',\n",
       " 'Eat, Pray, Love (Paperback)',\n",
       " 'The Secret Life of Bees (Paperback)',\n",
       " 'Angels & Demons (Robert Langdon, #1)',\n",
       " 'Me Before You (Me Before You, #1)',\n",
       " 'The Girl with the Dragon Tattoo (Millennium, #1)',\n",
       " 'Jane Eyre (Paperback)',\n",
       " 'The Last Song (Hardcover)',\n",
       " \"My Sister's Keeper (Paperback)\"]"
      ]
     },
     "execution_count": 122,
     "metadata": {},
     "output_type": "execute_result"
    }
   ],
   "source": [
    "#Page 2\n",
    "page_titles2 = []\n",
    "url = driver.current_url\n",
    "print(driver.current_url)\n",
    "response = requests.get(url, headers=headers)\n",
    "print(response.url)\n",
    "page = response.text\n",
    "#soupq = BeautifulSoup(page, \"lxml\")\n",
    "soup = BeautifulSoup(page, 'html.parser')\n",
    "\n",
    "for i in soup.find_all(\"a\", attrs={\"class\": \"bookTitle\"}):\n",
    "    page_titles2.append(i.text)\n",
    "page_titles2"
   ]
  },
  {
   "cell_type": "code",
   "execution_count": 62,
   "metadata": {},
   "outputs": [],
   "source": [
    "url_list = ['https://www.goodreads.com/book/show/2767052-the-hunger-games',\n",
    "            'https://www.goodreads.com/book/show/3.Harry_Potter_and_the_Sorcerer_s_Stone', \n",
    "            'https://www.goodreads.com/book/show/6.Harry_Potter_and_the_Goblet_of_Fire',\n",
    "            'https://www.goodreads.com/book/show/15881.Harry_Potter_and_the_Chamber_of_Secrets',\n",
    "           'https://www.goodreads.com/book/show/41865.Twilight',\n",
    "           'https://www.goodreads.com/book/show/4667024-the-help',\n",
    "           'https://www.goodreads.com/book/show/1.Harry_Potter_and_the_Half_Blood_Prince',\n",
    "            'https://www.goodreads.com/book/show/136251.Harry_Potter_and_the_Deathly_Hallows',\n",
    "            'https://www.goodreads.com/book/show/5.Harry_Potter_and_the_Prisoner_of_Azkaban',\n",
    "            'https://www.goodreads.com/book/show/2.Harry_Potter_and_the_Order_of_the_Phoenix',\n",
    "            'https://www.goodreads.com/book/show/6148028-catching-fire',\n",
    "            'https://www.goodreads.com/book/show/11870085-the-fault-in-our-stars',\n",
    "            'https://www.goodreads.com/book/show/13335037-divergent',\n",
    "            'https://www.goodreads.com/book/show/49041.New_Moon',\n",
    "            'https://www.goodreads.com/book/show/12232938-the-lovely-bones',\n",
    "            'https://www.goodreads.com/book/show/428263.Eclipse',\n",
    "            'https://www.goodreads.com/book/show/22628.The_Perks_of_Being_a_Wallflower',\n",
    "            'https://www.goodreads.com/book/show/4671.The_Great_Gatsby',\n",
    "            'https://www.goodreads.com/book/show/1885.Pride_and_Prejudice',\n",
    "            'https://www.goodreads.com/book/show/1162543.Breaking_Dawn',\n",
    "            'https://www.goodreads.com/book/show/2657.To_Kill_a_Mockingbird',\n",
    "            'https://www.goodreads.com/book/show/19063.The_Book_Thief',\n",
    "            'https://www.goodreads.com/book/show/7260188-mockingjay',\n",
    "            'https://www.goodreads.com/book/show/33648131-the-notebook',\n",
    "            'https://www.goodreads.com/book/show/5907.The_Hobbit_or_There_and_Back_Again'\n",
    "            \n",
    "           ]\n"
   ]
  },
  {
   "cell_type": "code",
   "execution_count": 63,
   "metadata": {},
   "outputs": [],
   "source": [
    "book_titles = []\n",
    "average_ratings = []"
   ]
  },
  {
   "cell_type": "code",
   "execution_count": 64,
   "metadata": {
    "scrolled": true
   },
   "outputs": [
    {
     "name": "stdout",
     "output_type": "stream",
     "text": [
      "['The Hunger Games', \"Harry Potter and the Sorcerer's Stone\", 'Harry Potter and the Goblet of Fire', 'Harry Potter and the Chamber of Secrets', 'Twilight', 'The Help', 'Harry Potter and the Half-Blood Prince', 'Harry Potter and the Deathly Hallows', 'Harry Potter and the Prisoner of Azkaban', 'Harry Potter and the Order of the Phoenix', 'Catching Fire', 'The Fault in Our Stars', 'Divergent', 'New Moon', 'The Lovely Bones', 'Eclipse', 'The Perks of Being a Wallflower', 'The Great Gatsby', 'Pride and Prejudice', 'Breaking Dawn', 'To Kill a Mockingbird', 'The Book Thief', 'Mockingjay', 'The Notebook', 'The Hobbit or There and Back Again']\n",
      "['4.33', '4.46', '4.55', '4.41', '3.58', '4.46', '4.56', '4.63', '4.55', '4.49', '4.29', '4.24', '4.21', '3.53', '3.79', '3.69', '4.20', '3.91', '4.25', '3.70', '4.27', '4.37', '4.03', '4.08', '4.26']\n"
     ]
    }
   ],
   "source": [
    "for url in url_list:\n",
    "    target_url = url\n",
    "    driver.get(target_url)\n",
    "\n",
    "#Getting info about a single book\n",
    "    title_selector = '//*[@id=\"bookTitle\"]'\n",
    "    title = driver.find_element_by_xpath(title_selector).text\n",
    "    book_titles.append(title)\n",
    "\n",
    "    average_rating_selector = '//*[@id=\"bookMeta\"]/span[2]'\n",
    "    average_rating = driver.find_element_by_xpath(average_rating_selector).text\n",
    "    average_ratings.append(average_rating)\n",
    "\n",
    "    \n",
    "print(book_titles)\n",
    "print(average_ratings)"
   ]
  },
  {
   "cell_type": "code",
   "execution_count": 66,
   "metadata": {},
   "outputs": [],
   "source": [
    "import pandas as pd"
   ]
  },
  {
   "cell_type": "code",
   "execution_count": 67,
   "metadata": {},
   "outputs": [],
   "source": [
    "book_data = pd.DataFrame(\n",
    "    {'book_title': book_titles,\n",
    "     'book_rating': average_ratings\n",
    "    })"
   ]
  },
  {
   "cell_type": "code",
   "execution_count": 69,
   "metadata": {},
   "outputs": [
    {
     "data": {
      "text/html": [
       "<div>\n",
       "<style scoped>\n",
       "    .dataframe tbody tr th:only-of-type {\n",
       "        vertical-align: middle;\n",
       "    }\n",
       "\n",
       "    .dataframe tbody tr th {\n",
       "        vertical-align: top;\n",
       "    }\n",
       "\n",
       "    .dataframe thead th {\n",
       "        text-align: right;\n",
       "    }\n",
       "</style>\n",
       "<table border=\"1\" class=\"dataframe\">\n",
       "  <thead>\n",
       "    <tr style=\"text-align: right;\">\n",
       "      <th></th>\n",
       "      <th>book_title</th>\n",
       "      <th>book_rating</th>\n",
       "    </tr>\n",
       "  </thead>\n",
       "  <tbody>\n",
       "    <tr>\n",
       "      <th>0</th>\n",
       "      <td>The Hunger Games</td>\n",
       "      <td>4.33</td>\n",
       "    </tr>\n",
       "    <tr>\n",
       "      <th>1</th>\n",
       "      <td>Harry Potter and the Sorcerer's Stone</td>\n",
       "      <td>4.46</td>\n",
       "    </tr>\n",
       "    <tr>\n",
       "      <th>2</th>\n",
       "      <td>Harry Potter and the Goblet of Fire</td>\n",
       "      <td>4.55</td>\n",
       "    </tr>\n",
       "  </tbody>\n",
       "</table>\n",
       "</div>"
      ],
      "text/plain": [
       "                              book_title book_rating\n",
       "0                       The Hunger Games        4.33\n",
       "1  Harry Potter and the Sorcerer's Stone        4.46\n",
       "2    Harry Potter and the Goblet of Fire        4.55"
      ]
     },
     "execution_count": 69,
     "metadata": {},
     "output_type": "execute_result"
    }
   ],
   "source": [
    "book_data.head(3)"
   ]
  },
  {
   "cell_type": "code",
   "execution_count": 70,
   "metadata": {},
   "outputs": [],
   "source": [
    "with open('book_title.pkl', 'wb') as f:\n",
    "    pickle.dump(book_titles, f)"
   ]
  },
  {
   "cell_type": "code",
   "execution_count": null,
   "metadata": {},
   "outputs": [],
   "source": []
  }
 ],
 "metadata": {
  "kernelspec": {
   "display_name": "Python 3",
   "language": "python",
   "name": "python3"
  },
  "language_info": {
   "codemirror_mode": {
    "name": "ipython",
    "version": 3
   },
   "file_extension": ".py",
   "mimetype": "text/x-python",
   "name": "python",
   "nbconvert_exporter": "python",
   "pygments_lexer": "ipython3",
   "version": "3.7.3"
  }
 },
 "nbformat": 4,
 "nbformat_minor": 2
}
